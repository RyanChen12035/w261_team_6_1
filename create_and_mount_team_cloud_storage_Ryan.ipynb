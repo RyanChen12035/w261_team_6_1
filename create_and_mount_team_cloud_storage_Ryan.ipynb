{
 "cells": [
  {
   "cell_type": "markdown",
   "metadata": {
    "application/vnd.databricks.v1+cell": {
     "cellMetadata": {
      "byteLimit": 2048000,
      "rowLimit": 10000
     },
     "inputWidgets": {},
     "nuid": "923184bc-b6e1-4101-9628-6e1e218c071c",
     "showTitle": false,
     "title": ""
    }
   },
   "source": [
    "# PLEASE CLONE THIS NOTEBOOK INTO YOUR PERSONAL FOLDER and  DO NOT RUN CODE IN THE SHARED FOLDER"
   ]
  },
  {
   "cell_type": "markdown",
   "metadata": {
    "application/vnd.databricks.v1+cell": {
     "cellMetadata": {
      "byteLimit": 2048000,
      "rowLimit": 10000
     },
     "inputWidgets": {},
     "nuid": "a1d87dcd-1d7f-4ede-9252-c434000edfe1",
     "showTitle": false,
     "title": ""
    }
   },
   "source": [
    "# Setting up your Team's Cloud Storage on Azure \n",
    "\n",
    "Each team will need to create a blob storage area  on Azure. This will be created by one team member known as the Storage Team Lead (possibly with an another team member as an observer). Once the blob storage is created the Storage Lead Person will give access to all other team members via shared secrets (read on to learn more). Then all team members (and only team members) will be have  access to the team storage bucket. Read on to learn how to do this. \n",
    "\n",
    "## Create storage bucket (performed by Storage Lead on your project team)\n",
    "The Storage Lead Person in your team will need to perform the following steps to create storage bucket for your team:\n",
    "\n",
    "* Download Databricks CLI to your laptop\n",
    "* Create Azure Blob Storage\n",
    "* Generate access credentials via **SAS Token**\n",
    "* Share Blob storage access Credentials via Databricks Secrets\n",
    "* Set up a code cell that can be pasted into any notebook that is used by the project team thereby giving them access to the team's blob storage\n",
    "\n",
    "## Read/Write to cloud storage from DataBricks cluster (can be tested by any team member)\n",
    "Now that a blob store (aka container has been created), any member of the team can read and write from the team's blob storage (aka container in Azure jargon). \n"
   ]
  },
  {
   "cell_type": "markdown",
   "metadata": {
    "application/vnd.databricks.v1+cell": {
     "cellMetadata": {
      "byteLimit": 2048000,
      "rowLimit": 10000
     },
     "inputWidgets": {},
     "nuid": "0976b62d-9d45-41b1-9031-15a92429453a",
     "showTitle": false,
     "title": ""
    }
   },
   "source": [
    "# Create storage bucket (performed by one person on your team)\n",
    "## Download Databricks CLI to your laptop\n",
    "\n",
    "**Note:** All Databricks CLI commands should be run on your `local computer`, not on the cluster.\n",
    "\n",
    "*  On your LOCAL LAPTOP, please install the Databricks CLI by running this command:\n",
    "   * `python3 -m pip install databricks-cli`\n",
    "* To access information through Databricks CLI, you have to authenticate. For authenticating and accessing the Databricks REST APIs, you have to use a personal access token. \n",
    "  * To generate the access token, click on the user profile icon in the top right corner of the Databricks Workspace and select user settings.\n",
    "      * Go to the extreme top right corner of this notebook UI and make sure the NAVIGATATION BAR (which is a separate bar about the notebook menu bar) and click on the dropdown menu associated with you email **...@berkeley.edu**, then click on **User Settings**, \n",
    "  * Enter the name of the comment and lifetime (total validity days of the token). \n",
    "  * Click on generate.\n",
    "  * Now, the Personal Access is generated; copy the generated token. \n",
    "    * NOTE: once you generate a token you will only have one chance to copy the token to a safe place.\n",
    "\n",
    "* In the command prompt, type `databricks configure –token` and press enter.\n",
    "  *  When prompted to enter the Databricks Host URL, provide your Databricks Host Link which is `https://adb-4248444930383559.19.azuredatabricks.net`.\n",
    "  * Then, you will be asked to enter the token. Enter your generated TOKEN and authenticate.\n",
    "\n",
    "* Now, you are successfully authenticated and all set for creating Secret Scopes and Secrets using CLI (see below). Secret Scopes and Secrets help to avoid sharing passwords and access keys in your notebooks. \n",
    "* NOTE: you can also see this TOKEN via the command line by typing the following command on your Terminal window.\n",
    "  `Jamess-MacBook-Pro-10:~ jshanahan$      cat ~/.databrickscfg`\n"
   ]
  },
  {
   "cell_type": "markdown",
   "metadata": {
    "application/vnd.databricks.v1+cell": {
     "cellMetadata": {
      "byteLimit": 2048000,
      "rowLimit": 10000
     },
     "inputWidgets": {},
     "nuid": "a9b6991f-d079-40fd-81a0-5bc793f1dd9d",
     "showTitle": false,
     "title": ""
    }
   },
   "source": [
    "## Create Azure Blob Storage and generate access priviledges\n",
    "\n",
    "**Special Note:** Creating a Storage account, only needs to be performed by **one** member of the team. This person then creates a blob storage area (known as a container) and shares access credentials with the rest of the team via a Secrets ACL. Please be responsible.\n",
    "\n",
    "### Create Storage Account\n",
    "1. Navigate to https://portal.azure.com\n",
    "2. Login using Calnet credentials *myuser@berkeley.edu*\n",
    "3. Click on the top right corner on the User Icon.\n",
    "4. Click on Switch directory. Make sure you switch to **UC Berkeley berkeley.onmicrosoft.com**, this would be your personal space.\n",
    "5. Click on the Hamburger Menu Icon on the top left corner, navigate to **Storage accounts**.\n",
    "6. Choose the option **Azure for Students** to take advantage of $100 in credits. Provide you *berkeley.edu* email and follow the prompts.\n",
    "7. Once the subscription is in place, navigate back to Storage accounts, refresh if needed. Hit the button **+ Create** in the top menu.\n",
    "  - Choose **Azure for Students** as Subscription (think billing account).\n",
    "  - Create a new Resource group. Name is irrelevant here.\n",
    "  - Choose a **Storage account name**, you will need this in the *Init Script* below. (e.g., jshanahan). This a master directory within which we have blob storages, aka containers on Azure.\n",
    "  - Go with the defaults for the rest of the form.\n",
    "  - Hit the **Review + create** button.\n",
    "8. Once the **Storage account** is shown in your list:\n",
    "  - Click on it. This will open a sub-window.\n",
    "  - Under *Data Storage*, click on **container**.\n",
    "  - Hit the **+ Container** in the top menu.\n",
    "  - Choose a name for your container; to access this container you will need to generate a SAS token in the *Init Script* below.\n",
    "  \n",
    "**Note:** Create your Blob Storage in the US West 2 Region.\n",
    "\n",
    "### Obtain Credentials via **SAS Token** or via **Access Key**\n",
    "\n",
    "First, you need to choose between using  a SAS token (or via Access Key) to enable access to you blob storage. Bottom line, SAS tokens would be recommended since it's a token in which you have control on permissions and TTL (Time to Live). On the other hand, an Access Key, would grant full access to the Storage Account and will generate SAS tokens in the backend when these expire.\n",
    "\n",
    "\n",
    "To obtain a **SAS Token** which is the recommended way to offer access to your team mates.\n",
    "\n",
    "SAS Token (Shared Access Signature token)  that offers access for a restricted time period which we recommend:\n",
    "1. Navigate to the containers list.\n",
    "2. At the far right, click on the `...` for the container you just created.\n",
    "3. Check the boxes of the permissions you want.\n",
    "4. Select an expiration you are comfortable with.\n",
    "5. Hit the **Generate SAS token and URL** button.\n",
    "6. Scroll down and copy only the **Blob SAS token**.\n",
    "\n",
    "Please try to avoid using **Access Key**:\n",
    "\n",
    "To obtain the **Access Key** (unrestricted access as long as you have the token):\n",
    "1. Navigate back to *Storage accounts**.\n",
    "2. Click on the recently created account name.\n",
    "3. In the sub-window, under *Security + networking*, click on **Access Keys**.\n",
    "4. Hit the **Show keys** button.\n",
    "5. Copy the **Key**, you don't need the Connection string. It's irrelevant if you choose *key1* or *key2*.\n"
   ]
  },
  {
   "cell_type": "markdown",
   "metadata": {
    "application/vnd.databricks.v1+cell": {
     "cellMetadata": {
      "byteLimit": 2048000,
      "rowLimit": 10000
     },
     "inputWidgets": {},
     "nuid": "c5de06e8-d140-41a3-a7f0-3db790a8c245",
     "showTitle": false,
     "title": ""
    },
    "jupyter": {
     "outputs_hidden": true
    }
   },
   "source": [
    "## Share Blob storage access credentials securely via Databricks Secret  \n",
    "\n",
    "Now, you are successfully authenticated next we will create Secret Scopes and Secrets using the CLI to avoid sharing passwords and access keys in your notebooks.\n",
    "\n",
    "#### Some background on scopes and secrets [you can skip this subsection if you are low on time]\n",
    "Since security is the primary concern when working with Cloud services, instead of storing passwords or access keys in Notebook or Code in plaintext, Databricks/Azure provides two types of Secret Scopes to store and retrieve all the secrets when and where they are needed.  In Databricks, every Workspace has Secret Scopes within which one or more Secrets are present to access third-party data, integrate with applications, or fetch information. Users can also create multiple Secret Scopes within the workspace according to the demand of the application.  \n",
    "\n",
    "The two types of Databricks Secret Scopes are:\n",
    "* 1) Azure Key Vault-Backed Scope [not applicable here; see Azure documentation for more details]\n",
    "\n",
    "* 2) Databricks-Backed Scope\n",
    "In this method, the Secret Scopes are managed with an internally encrypted database owned by the Databricks platform. Users can create a Databricks-backed Secret Scope using the Databricks CLI version 0.7.1 and above.\n",
    "\n",
    "#### Permission Levels of Secret Scopes\n",
    "There are three levels of permissions that you can assign while creating each Secret Ccope. They are:\n",
    "\n",
    "* Manage: This permission is used to manage everything about the Secret Scopes and ACLS (Access Control List). By using ACLs, users can configure fine-grained permissions to different people and groups for accessing different Scopes and Secrets.\n",
    "* Write: This allows you to read, write, and manage the keys of the particular Secret Scope.\n",
    "* Read: This allows you to read the secret scope and list all the secrets available inside it.\n",
    "\n",
    "\n",
    "###  Creating Secret Scopes and Secrets using Databricks CLI (to avoid sharing passwords and access keys in your notebooks)\n",
    "\n",
    "**Special Note:** Only the member that created the Storage account should perform this step.\n",
    "\n",
    "1. On your laptop via the CLI, create a **SCOPE**:\n",
    "*  `databricks secrets create-scope --scope <choose-any-name>`\n",
    "\n",
    "2. Next create Secrets inside the Secret Scope using Databricks CLI\n",
    "You can enter the following command to create a Secret inside the Scope: On your laptop via the CLI, load the key/token:\n",
    "* `databricks secrets put --scope <name-from-above> --key <choose-any-name> --string-value '<paste-key-SAS-token-here>'`\n",
    "\n",
    "NOTE --principal should be  CLUSTER Name \n",
    "\n",
    "3.  On your laptop via the CLI, add a `principal` to the Secret Scope ACL to share token with your teammates. This is done at the team cluster level, so you will need the name of your Databricks cluster.  **Careful:** make sure you type the right cluster name.\n",
    "* `databricks secrets put-acl --scope <name-from-above> --principal \"Data Bricks CLUSTER-Name\"  --permission READ`\n",
    "\n",
    "Putting all three steps together, it might look like this for a sample project team who is running on a Databricks cluster called `team 1-1`:\n",
    "```bash\n",
    "databricks secrets create-scope --scope team_1_1_scope   #made a scope of jgs_instructors;  \n",
    "databricks secrets put --scope team_1_1_scope --key team_1_1_key \\\n",
    "        --string-value 'sp=racwdli&st=2022-11-19T21:43:t..........' #SAS Container token that you copied from Azure\n",
    "databricks secrets put-acl --scope team_1_1_scope --principal \"team 1-1\" --permission READ  #assume my DataBricks cluster name is team 1-1\n",
    "\n",
    "```\n",
    "**Note:** This has been tested only on Mac/Linux. It might be different in Windows.\n",
    "  * For Windows: to load the key/ SAS token, replace the single quote `''` with double quote `\"\"`.\n",
    "  `databricks secrets put --scope <name-from-above> --key <choose-any-name> --string-value \"<paste-key-SAS-token-here>\"`\n",
    "\n",
    "Then each team members could run the following, there by saving a small Spark dataframe to the team's blob storage.  Then any team member can see the saved data on the team blob storage `test` via https://portal.azure.com:\n",
    "\n",
    "```python\n",
    "secret_scope = \"team_1_1_scope\"\n",
    "secret_key   = \"team_1_1_key\"    \n",
    "spark.conf.set(\n",
    "  f\"fs.azure.sas.{blob_container}.{storage_account}.blob.core.windows.net\",\n",
    "  dbutils.secrets.get(scope = secret_scope, key = secret_key)\n",
    ")\n",
    "blob_container  = \"my_container_name\"       # The name of your container created in https://portal.azure.com\n",
    "storage_account = \"my_storage_account_name\" # The name of your Storage account created in https://portal.azure.com\n",
    "team_blob_url = f\"wasbs://{blob_container}@{storage_account}.blob.core.windows.net\"\n",
    "\n",
    "pdf = pd.DataFrame([[1, 2, 3, \"Jane\"], [2, 2,2, None], [12, 12,12, \"John\"]], columns=[\"x\", \"y\", \"z\", \"a_string\"])\n",
    "df = spark.createDataFrame(pdf) # Create a Spark dataframe from a pandas DF\n",
    "\n",
    "# The following can write the dataframe to the team's Cloud Storage  \n",
    "# Navigate back to your Storage account in https://portal.azure.com, to inspect the partitions/files.\n",
    "df.write.parquet(f\"{team_blob_url}/test\")\n",
    "\n",
    "# see what's in the parquet folder \n",
    "display(dbutils.fs.ls(f\"{team_blob_url}/test\"))\n",
    "```\n"
   ]
  },
  {
   "cell_type": "markdown",
   "metadata": {
    "application/vnd.databricks.v1+cell": {
     "cellMetadata": {
      "byteLimit": 2048000,
      "rowLimit": 10000
     },
     "inputWidgets": {},
     "nuid": "c671e9c4-8fd4-493e-810c-80dc1e2647b2",
     "showTitle": false,
     "title": ""
    }
   },
   "source": [
    "# Read/write to blob storage (for all team members)\n",
    "\n",
    "## Init Script \n",
    "The Storage Team Lead will need to adapt the following cell so that team members can read/write to the team's blob storage. \n",
    "\n",
    "Please replace these variable values with your blob storage details and access credential information:\n",
    "\n",
    "```python\n",
    "blob_container  = “my_container_name”        # The name of your container created in https://portal.azure.com\n",
    "storage_account = “my_storage_account_name”  # The name of your Storage account created in https://portal.azure.com\n",
    "secret_scope    = “team_1_1_scope”           # The name of the scope created in your local computer using the Databricks CLI\n",
    "secret_key      = “team_1_1_key”             # The name of the secret key created in your local computer using the Databricks CLI\n",
    "```\n",
    "\n",
    "This cell can then be copied to any team notebook that needs access to the team cloud storage."
   ]
  },
  {
   "cell_type": "code",
   "execution_count": 0,
   "metadata": {
    "application/vnd.databricks.v1+cell": {
     "cellMetadata": {
      "byteLimit": 2048000,
      "rowLimit": 10000
     },
     "inputWidgets": {},
     "nuid": "fa55591d-4143-4189-8741-28af0c435de1",
     "showTitle": false,
     "title": ""
    }
   },
   "outputs": [
    {
     "output_type": "display_data",
     "data": {
      "text/html": [
       "<style scoped>\n",
       "  .table-result-container {\n",
       "    max-height: 300px;\n",
       "    overflow: auto;\n",
       "  }\n",
       "  table, th, td {\n",
       "    border: 1px solid black;\n",
       "    border-collapse: collapse;\n",
       "  }\n",
       "  th, td {\n",
       "    padding: 5px;\n",
       "  }\n",
       "  th {\n",
       "    text-align: left;\n",
       "  }\n",
       "</style><div class='table-result-container'><table class='table-result'><thead style='background-color: white'><tr><th>path</th><th>name</th><th>size</th><th>modificationTime</th></tr></thead><tbody><tr><td>wasbs://w261team61@w261finalteam61.blob.core.windows.net/TP/</td><td>TP/</td><td>0</td><td>1698747699000</td></tr></tbody></table></div>"
      ]
     },
     "metadata": {
      "application/vnd.databricks.v1+output": {
       "addedWidgets": {},
       "aggData": [],
       "aggError": "",
       "aggOverflow": false,
       "aggSchema": [],
       "aggSeriesLimitReached": false,
       "aggType": "",
       "arguments": {},
       "columnCustomDisplayInfos": {},
       "data": [
        [
         "wasbs://w261team61@w261finalteam61.blob.core.windows.net/TP/",
         "TP/",
         0,
         1698747699000
        ]
       ],
       "datasetInfos": [],
       "dbfsResultPath": null,
       "isJsonSchema": true,
       "metadata": {},
       "overflow": false,
       "plotOptions": {
        "customPlotOptions": {},
        "displayType": "table",
        "pivotAggregation": null,
        "pivotColumns": null,
        "xColumns": null,
        "yColumns": null
       },
       "removedWidgets": [],
       "schema": [
        {
         "metadata": "{}",
         "name": "path",
         "type": "\"string\""
        },
        {
         "metadata": "{}",
         "name": "name",
         "type": "\"string\""
        },
        {
         "metadata": "{}",
         "name": "size",
         "type": "\"long\""
        },
        {
         "metadata": "{}",
         "name": "modificationTime",
         "type": "\"long\""
        }
       ],
       "type": "table"
      }
     },
     "output_type": "display_data"
    }
   ],
   "source": [
    "## Place this cell in any team notebook that needs access to the team cloud storage.\n",
    "\n",
    "\n",
    "# The following blob storage is accessible to team members only (read and write)\n",
    "# access key is valid til TTL\n",
    "# after that you will need to create a new SAS key and authenticate access again via DataBrick command line\n",
    "blob_container  = \"w261team61\"       # The name of your container created in https://portal.azure.com\n",
    "storage_account = \"w261finalteam61\"  # The name of your Storage account created in https://portal.azure.com\n",
    "secret_scope    = \"team61\"           # The name of the scope created in your local computer using the Databricks CLI\n",
    "secret_key      = \"2kmGIIYhBq3H196B9mWICjnspOYsEINqM6yrzGG1agnA5ZwjIAdSSayXcrZYXf9zUUarVptUTS74+AStkH6Ylg==\"             # The name of the secret key created in your local computer using the Databricks CLI\n",
    "team_blob_url   = f\"wasbs://{blob_container}@{storage_account}.blob.core.windows.net\"  #points to the root of your team storage bucket\n",
    "\n",
    "\n",
    "# the 261 course blob storage is mounted here.\n",
    "mids261_mount_path      = \"/mnt/mids-w261\"\n",
    "\n",
    "# SAS Token: Grant the team limited access to Azure Storage resources\n",
    "spark.conf.set(\n",
    "  f\"fs.azure.sas.{blob_container}.{storage_account}.blob.core.windows.net\",\n",
    "  dbutils.secrets.get(scope = secret_scope, key = secret_key)\n",
    ")\n",
    "import pandas as pd\n",
    "pdf = pd.DataFrame([[1, 2, 3, \"Jane\"], [2, 2,2, None], [12, 12,12, \"John\"]], columns=[\"x\", \"y\", \"z\", \"a_string\"])\n",
    "df = spark.createDataFrame(pdf) # Create a Spark dataframe from a pandas DF\n",
    "\n",
    "# The following can write the dataframe to the team's Cloud Storage  \n",
    "# Navigate back to your Storage account in https://portal.azure.com, to inspect the partitions/files.\n",
    "df.write.parquet(f\"{team_blob_url}/TP\")\n",
    "\n",
    "\n",
    "\n",
    "# see what's in the blob storage root folder \n",
    "display(dbutils.fs.ls(f\"{team_blob_url}\"))"
   ]
  },
  {
   "cell_type": "markdown",
   "metadata": {
    "application/vnd.databricks.v1+cell": {
     "cellMetadata": {
      "byteLimit": 2048000,
      "rowLimit": 10000
     },
     "inputWidgets": {},
     "nuid": "ca3afd8b-302f-4fd0-a230-da2e26c5894c",
     "showTitle": false,
     "title": ""
    }
   },
   "source": [
    "## Read and write data!\n",
    "A *Read Only* mount has been made available to all course clusters in this Databricks Platform. It contains data you will use for **HW5** and **Final Project**. Feel free to explore the files by running the cell below. Read them!\n",
    "\n"
   ]
  },
  {
   "cell_type": "code",
   "execution_count": 0,
   "metadata": {
    "application/vnd.databricks.v1+cell": {
     "cellMetadata": {
      "byteLimit": 2048000,
      "rowLimit": 10000
     },
     "inputWidgets": {},
     "nuid": "8affaf3e-2481-40c8-b2ed-a9ec46b809dc",
     "showTitle": false,
     "title": ""
    }
   },
   "outputs": [
    {
     "output_type": "display_data",
     "data": {
      "text/html": [
       "<style scoped>\n",
       "  .table-result-container {\n",
       "    max-height: 300px;\n",
       "    overflow: auto;\n",
       "  }\n",
       "  table, th, td {\n",
       "    border: 1px solid black;\n",
       "    border-collapse: collapse;\n",
       "  }\n",
       "  th, td {\n",
       "    padding: 5px;\n",
       "  }\n",
       "  th {\n",
       "    text-align: left;\n",
       "  }\n",
       "</style><div class='table-result-container'><table class='table-result'><thead style='background-color: white'><tr><th>path</th><th>name</th><th>size</th><th>modificationTime</th></tr></thead><tbody><tr><td>dbfs:/mnt/mids-w261/datasets_final_project_2022/parquet_airlines_data/</td><td>parquet_airlines_data/</td><td>0</td><td>0</td></tr><tr><td>dbfs:/mnt/mids-w261/datasets_final_project_2022/parquet_airlines_data_1y/</td><td>parquet_airlines_data_1y/</td><td>0</td><td>0</td></tr><tr><td>dbfs:/mnt/mids-w261/datasets_final_project_2022/parquet_airlines_data_3m/</td><td>parquet_airlines_data_3m/</td><td>0</td><td>0</td></tr><tr><td>dbfs:/mnt/mids-w261/datasets_final_project_2022/parquet_airlines_data_6m/</td><td>parquet_airlines_data_6m/</td><td>0</td><td>0</td></tr><tr><td>dbfs:/mnt/mids-w261/datasets_final_project_2022/parquet_weather_data/</td><td>parquet_weather_data/</td><td>0</td><td>0</td></tr><tr><td>dbfs:/mnt/mids-w261/datasets_final_project_2022/parquet_weather_data_1y/</td><td>parquet_weather_data_1y/</td><td>0</td><td>0</td></tr><tr><td>dbfs:/mnt/mids-w261/datasets_final_project_2022/parquet_weather_data_3m/</td><td>parquet_weather_data_3m/</td><td>0</td><td>0</td></tr><tr><td>dbfs:/mnt/mids-w261/datasets_final_project_2022/parquet_weather_data_6m/</td><td>parquet_weather_data_6m/</td><td>0</td><td>0</td></tr><tr><td>dbfs:/mnt/mids-w261/datasets_final_project_2022/stations_data/</td><td>stations_data/</td><td>0</td><td>0</td></tr></tbody></table></div>"
      ]
     },
     "metadata": {
      "application/vnd.databricks.v1+output": {
       "addedWidgets": {},
       "aggData": [],
       "aggError": "",
       "aggOverflow": false,
       "aggSchema": [],
       "aggSeriesLimitReached": false,
       "aggType": "",
       "arguments": {},
       "columnCustomDisplayInfos": {},
       "data": [
        [
         "dbfs:/mnt/mids-w261/datasets_final_project_2022/parquet_airlines_data/",
         "parquet_airlines_data/",
         0,
         0
        ],
        [
         "dbfs:/mnt/mids-w261/datasets_final_project_2022/parquet_airlines_data_1y/",
         "parquet_airlines_data_1y/",
         0,
         0
        ],
        [
         "dbfs:/mnt/mids-w261/datasets_final_project_2022/parquet_airlines_data_3m/",
         "parquet_airlines_data_3m/",
         0,
         0
        ],
        [
         "dbfs:/mnt/mids-w261/datasets_final_project_2022/parquet_airlines_data_6m/",
         "parquet_airlines_data_6m/",
         0,
         0
        ],
        [
         "dbfs:/mnt/mids-w261/datasets_final_project_2022/parquet_weather_data/",
         "parquet_weather_data/",
         0,
         0
        ],
        [
         "dbfs:/mnt/mids-w261/datasets_final_project_2022/parquet_weather_data_1y/",
         "parquet_weather_data_1y/",
         0,
         0
        ],
        [
         "dbfs:/mnt/mids-w261/datasets_final_project_2022/parquet_weather_data_3m/",
         "parquet_weather_data_3m/",
         0,
         0
        ],
        [
         "dbfs:/mnt/mids-w261/datasets_final_project_2022/parquet_weather_data_6m/",
         "parquet_weather_data_6m/",
         0,
         0
        ],
        [
         "dbfs:/mnt/mids-w261/datasets_final_project_2022/stations_data/",
         "stations_data/",
         0,
         0
        ]
       ],
       "datasetInfos": [],
       "dbfsResultPath": null,
       "isJsonSchema": true,
       "metadata": {},
       "overflow": false,
       "plotOptions": {
        "customPlotOptions": {},
        "displayType": "table",
        "pivotAggregation": null,
        "pivotColumns": null,
        "xColumns": null,
        "yColumns": null
       },
       "removedWidgets": [],
       "schema": [
        {
         "metadata": "{}",
         "name": "path",
         "type": "\"string\""
        },
        {
         "metadata": "{}",
         "name": "name",
         "type": "\"string\""
        },
        {
         "metadata": "{}",
         "name": "size",
         "type": "\"long\""
        },
        {
         "metadata": "{}",
         "name": "modificationTime",
         "type": "\"long\""
        }
       ],
       "type": "table"
      }
     },
     "output_type": "display_data"
    }
   ],
   "source": [
    "display(dbutils.fs.ls(f\"{mids261_mount_path}/datasets_final_project_2022\"))"
   ]
  },
  {
   "cell_type": "code",
   "execution_count": 0,
   "metadata": {
    "application/vnd.databricks.v1+cell": {
     "cellMetadata": {
      "byteLimit": 2048000,
      "rowLimit": 10000
     },
     "inputWidgets": {},
     "nuid": "48e658e2-4b67-42ae-bbc0-c70ad624a5c4",
     "showTitle": false,
     "title": ""
    }
   },
   "outputs": [
    {
     "output_type": "display_data",
     "data": {
      "text/html": [
       "<style scoped>\n",
       "  .table-result-container {\n",
       "    max-height: 300px;\n",
       "    overflow: auto;\n",
       "  }\n",
       "  table, th, td {\n",
       "    border: 1px solid black;\n",
       "    border-collapse: collapse;\n",
       "  }\n",
       "  th, td {\n",
       "    padding: 5px;\n",
       "  }\n",
       "  th {\n",
       "    text-align: left;\n",
       "  }\n",
       "</style><div class='table-result-container'><table class='table-result'><thead style='background-color: white'><tr><th>STATION</th><th>DATE</th><th>SOURCE</th><th>LATITUDE</th><th>LONGITUDE</th><th>ELEVATION</th><th>NAME</th><th>REPORT_TYPE</th><th>CALL_SIGN</th><th>QUALITY_CONTROL</th><th>WND</th><th>CIG</th><th>VIS</th><th>TMP</th><th>DEW</th><th>SLP</th><th>AW1</th><th>GA1</th><th>GA2</th><th>GA3</th><th>GA4</th><th>GE1</th><th>GF1</th><th>KA1</th><th>KA2</th><th>MA1</th><th>MD1</th><th>MW1</th><th>MW2</th><th>OC1</th><th>OD1</th><th>OD2</th><th>REM</th><th>EQD</th><th>AW2</th><th>AX4</th><th>GD1</th><th>AW5</th><th>GN1</th><th>AJ1</th><th>AW3</th><th>MK1</th><th>KA4</th><th>GG3</th><th>AN1</th><th>RH1</th><th>AU5</th><th>HL1</th><th>OB1</th><th>AT8</th><th>AW7</th><th>AZ1</th><th>CH1</th><th>RH3</th><th>GK1</th><th>IB1</th><th>AX1</th><th>CT1</th><th>AK1</th><th>CN2</th><th>OE1</th><th>MW5</th><th>AO1</th><th>KA3</th><th>AA3</th><th>CR1</th><th>CF2</th><th>KB2</th><th>GM1</th><th>AT5</th><th>AY2</th><th>MW6</th><th>MG1</th><th>AH6</th><th>AU2</th><th>GD2</th><th>AW4</th><th>MF1</th><th>AA1</th><th>AH2</th><th>AH3</th><th>OE3</th><th>AT6</th><th>AL2</th><th>AL3</th><th>AX5</th><th>IB2</th><th>AI3</th><th>CV3</th><th>WA1</th><th>GH1</th><th>KF1</th><th>CU2</th><th>CT3</th><th>SA1</th><th>AU1</th><th>KD2</th><th>AI5</th><th>GO1</th><th>GD3</th><th>CG3</th><th>AI1</th><th>AL1</th><th>AW6</th><th>MW4</th><th>AX6</th><th>CV1</th><th>ME1</th><th>KC2</th><th>CN1</th><th>UA1</th><th>GD5</th><th>UG2</th><th>AT3</th><th>AT4</th><th>GJ1</th><th>MV1</th><th>GA5</th><th>CT2</th><th>CG2</th><th>ED1</th><th>AE1</th><th>CO1</th><th>KE1</th><th>KB1</th><th>AI4</th><th>MW3</th><th>KG2</th><th>AA2</th><th>AX2</th><th>AY1</th><th>RH2</th><th>OE2</th><th>CU3</th><th>MH1</th><th>AM1</th><th>AU4</th><th>GA6</th><th>KG1</th><th>AU3</th><th>AT7</th><th>KD1</th><th>GL1</th><th>IA1</th><th>GG2</th><th>OD3</th><th>UG1</th><th>CB1</th><th>AI6</th><th>CI1</th><th>CV2</th><th>AZ2</th><th>AD1</th><th>AH1</th><th>WD1</th><th>AA4</th><th>KC1</th><th>IA2</th><th>CF3</th><th>AI2</th><th>AT1</th><th>GD4</th><th>AX3</th><th>AH4</th><th>KB3</th><th>CU1</th><th>CN4</th><th>AT2</th><th>CG1</th><th>CF1</th><th>GG1</th><th>MV2</th><th>CW1</th><th>GG4</th><th>AB1</th><th>AH5</th><th>CN3</th></tr></thead><tbody></tbody></table></div>"
      ]
     },
     "metadata": {
      "application/vnd.databricks.v1+output": {
       "addedWidgets": {},
       "aggData": [],
       "aggError": "",
       "aggOverflow": false,
       "aggSchema": [],
       "aggSeriesLimitReached": false,
       "aggType": "",
       "arguments": {},
       "columnCustomDisplayInfos": {},
       "data": [],
       "datasetInfos": [],
       "dbfsResultPath": null,
       "isJsonSchema": true,
       "metadata": {},
       "overflow": false,
       "plotOptions": {
        "customPlotOptions": {},
        "displayType": "table",
        "pivotAggregation": null,
        "pivotColumns": null,
        "xColumns": null,
        "yColumns": null
       },
       "removedWidgets": [],
       "schema": [
        {
         "metadata": "{}",
         "name": "STATION",
         "type": "\"string\""
        },
        {
         "metadata": "{}",
         "name": "DATE",
         "type": "\"timestamp\""
        },
        {
         "metadata": "{}",
         "name": "SOURCE",
         "type": "\"short\""
        },
        {
         "metadata": "{}",
         "name": "LATITUDE",
         "type": "\"double\""
        },
        {
         "metadata": "{}",
         "name": "LONGITUDE",
         "type": "\"double\""
        },
        {
         "metadata": "{}",
         "name": "ELEVATION",
         "type": "\"double\""
        },
        {
         "metadata": "{}",
         "name": "NAME",
         "type": "\"string\""
        },
        {
         "metadata": "{}",
         "name": "REPORT_TYPE",
         "type": "\"string\""
        },
        {
         "metadata": "{}",
         "name": "CALL_SIGN",
         "type": "\"string\""
        },
        {
         "metadata": "{}",
         "name": "QUALITY_CONTROL",
         "type": "\"string\""
        },
        {
         "metadata": "{}",
         "name": "WND",
         "type": "\"string\""
        },
        {
         "metadata": "{}",
         "name": "CIG",
         "type": "\"string\""
        },
        {
         "metadata": "{}",
         "name": "VIS",
         "type": "\"string\""
        },
        {
         "metadata": "{}",
         "name": "TMP",
         "type": "\"string\""
        },
        {
         "metadata": "{}",
         "name": "DEW",
         "type": "\"string\""
        },
        {
         "metadata": "{}",
         "name": "SLP",
         "type": "\"string\""
        },
        {
         "metadata": "{}",
         "name": "AW1",
         "type": "\"string\""
        },
        {
         "metadata": "{}",
         "name": "GA1",
         "type": "\"string\""
        },
        {
         "metadata": "{}",
         "name": "GA2",
         "type": "\"string\""
        },
        {
         "metadata": "{}",
         "name": "GA3",
         "type": "\"string\""
        },
        {
         "metadata": "{}",
         "name": "GA4",
         "type": "\"string\""
        },
        {
         "metadata": "{}",
         "name": "GE1",
         "type": "\"string\""
        },
        {
         "metadata": "{}",
         "name": "GF1",
         "type": "\"string\""
        },
        {
         "metadata": "{}",
         "name": "KA1",
         "type": "\"string\""
        },
        {
         "metadata": "{}",
         "name": "KA2",
         "type": "\"string\""
        },
        {
         "metadata": "{}",
         "name": "MA1",
         "type": "\"string\""
        },
        {
         "metadata": "{}",
         "name": "MD1",
         "type": "\"string\""
        },
        {
         "metadata": "{}",
         "name": "MW1",
         "type": "\"string\""
        },
        {
         "metadata": "{}",
         "name": "MW2",
         "type": "\"string\""
        },
        {
         "metadata": "{}",
         "name": "OC1",
         "type": "\"string\""
        },
        {
         "metadata": "{}",
         "name": "OD1",
         "type": "\"string\""
        },
        {
         "metadata": "{}",
         "name": "OD2",
         "type": "\"string\""
        },
        {
         "metadata": "{}",
         "name": "REM",
         "type": "\"string\""
        },
        {
         "metadata": "{}",
         "name": "EQD",
         "type": "\"string\""
        },
        {
         "metadata": "{}",
         "name": "AW2",
         "type": "\"string\""
        },
        {
         "metadata": "{}",
         "name": "AX4",
         "type": "\"string\""
        },
        {
         "metadata": "{}",
         "name": "GD1",
         "type": "\"string\""
        },
        {
         "metadata": "{}",
         "name": "AW5",
         "type": "\"string\""
        },
        {
         "metadata": "{}",
         "name": "GN1",
         "type": "\"string\""
        },
        {
         "metadata": "{}",
         "name": "AJ1",
         "type": "\"string\""
        },
        {
         "metadata": "{}",
         "name": "AW3",
         "type": "\"string\""
        },
        {
         "metadata": "{}",
         "name": "MK1",
         "type": "\"string\""
        },
        {
         "metadata": "{}",
         "name": "KA4",
         "type": "\"string\""
        },
        {
         "metadata": "{}",
         "name": "GG3",
         "type": "\"string\""
        },
        {
         "metadata": "{}",
         "name": "AN1",
         "type": "\"string\""
        },
        {
         "metadata": "{}",
         "name": "RH1",
         "type": "\"string\""
        },
        {
         "metadata": "{}",
         "name": "AU5",
         "type": "\"string\""
        },
        {
         "metadata": "{}",
         "name": "HL1",
         "type": "\"string\""
        },
        {
         "metadata": "{}",
         "name": "OB1",
         "type": "\"string\""
        },
        {
         "metadata": "{}",
         "name": "AT8",
         "type": "\"string\""
        },
        {
         "metadata": "{}",
         "name": "AW7",
         "type": "\"string\""
        },
        {
         "metadata": "{}",
         "name": "AZ1",
         "type": "\"string\""
        },
        {
         "metadata": "{}",
         "name": "CH1",
         "type": "\"string\""
        },
        {
         "metadata": "{}",
         "name": "RH3",
         "type": "\"string\""
        },
        {
         "metadata": "{}",
         "name": "GK1",
         "type": "\"string\""
        },
        {
         "metadata": "{}",
         "name": "IB1",
         "type": "\"string\""
        },
        {
         "metadata": "{}",
         "name": "AX1",
         "type": "\"string\""
        },
        {
         "metadata": "{}",
         "name": "CT1",
         "type": "\"string\""
        },
        {
         "metadata": "{}",
         "name": "AK1",
         "type": "\"string\""
        },
        {
         "metadata": "{}",
         "name": "CN2",
         "type": "\"string\""
        },
        {
         "metadata": "{}",
         "name": "OE1",
         "type": "\"string\""
        },
        {
         "metadata": "{}",
         "name": "MW5",
         "type": "\"string\""
        },
        {
         "metadata": "{}",
         "name": "AO1",
         "type": "\"string\""
        },
        {
         "metadata": "{}",
         "name": "KA3",
         "type": "\"string\""
        },
        {
         "metadata": "{}",
         "name": "AA3",
         "type": "\"string\""
        },
        {
         "metadata": "{}",
         "name": "CR1",
         "type": "\"string\""
        },
        {
         "metadata": "{}",
         "name": "CF2",
         "type": "\"string\""
        },
        {
         "metadata": "{}",
         "name": "KB2",
         "type": "\"string\""
        },
        {
         "metadata": "{}",
         "name": "GM1",
         "type": "\"string\""
        },
        {
         "metadata": "{}",
         "name": "AT5",
         "type": "\"string\""
        },
        {
         "metadata": "{}",
         "name": "AY2",
         "type": "\"string\""
        },
        {
         "metadata": "{}",
         "name": "MW6",
         "type": "\"string\""
        },
        {
         "metadata": "{}",
         "name": "MG1",
         "type": "\"string\""
        },
        {
         "metadata": "{}",
         "name": "AH6",
         "type": "\"string\""
        },
        {
         "metadata": "{}",
         "name": "AU2",
         "type": "\"string\""
        },
        {
         "metadata": "{}",
         "name": "GD2",
         "type": "\"string\""
        },
        {
         "metadata": "{}",
         "name": "AW4",
         "type": "\"string\""
        },
        {
         "metadata": "{}",
         "name": "MF1",
         "type": "\"string\""
        },
        {
         "metadata": "{}",
         "name": "AA1",
         "type": "\"string\""
        },
        {
         "metadata": "{}",
         "name": "AH2",
         "type": "\"string\""
        },
        {
         "metadata": "{}",
         "name": "AH3",
         "type": "\"string\""
        },
        {
         "metadata": "{}",
         "name": "OE3",
         "type": "\"string\""
        },
        {
         "metadata": "{}",
         "name": "AT6",
         "type": "\"string\""
        },
        {
         "metadata": "{}",
         "name": "AL2",
         "type": "\"string\""
        },
        {
         "metadata": "{}",
         "name": "AL3",
         "type": "\"string\""
        },
        {
         "metadata": "{}",
         "name": "AX5",
         "type": "\"string\""
        },
        {
         "metadata": "{}",
         "name": "IB2",
         "type": "\"string\""
        },
        {
         "metadata": "{}",
         "name": "AI3",
         "type": "\"string\""
        },
        {
         "metadata": "{}",
         "name": "CV3",
         "type": "\"string\""
        },
        {
         "metadata": "{}",
         "name": "WA1",
         "type": "\"string\""
        },
        {
         "metadata": "{}",
         "name": "GH1",
         "type": "\"string\""
        },
        {
         "metadata": "{}",
         "name": "KF1",
         "type": "\"string\""
        },
        {
         "metadata": "{}",
         "name": "CU2",
         "type": "\"string\""
        },
        {
         "metadata": "{}",
         "name": "CT3",
         "type": "\"string\""
        },
        {
         "metadata": "{}",
         "name": "SA1",
         "type": "\"string\""
        },
        {
         "metadata": "{}",
         "name": "AU1",
         "type": "\"string\""
        },
        {
         "metadata": "{}",
         "name": "KD2",
         "type": "\"string\""
        },
        {
         "metadata": "{}",
         "name": "AI5",
         "type": "\"string\""
        },
        {
         "metadata": "{}",
         "name": "GO1",
         "type": "\"string\""
        },
        {
         "metadata": "{}",
         "name": "GD3",
         "type": "\"string\""
        },
        {
         "metadata": "{}",
         "name": "CG3",
         "type": "\"string\""
        },
        {
         "metadata": "{}",
         "name": "AI1",
         "type": "\"string\""
        },
        {
         "metadata": "{}",
         "name": "AL1",
         "type": "\"string\""
        },
        {
         "metadata": "{}",
         "name": "AW6",
         "type": "\"string\""
        },
        {
         "metadata": "{}",
         "name": "MW4",
         "type": "\"string\""
        },
        {
         "metadata": "{}",
         "name": "AX6",
         "type": "\"string\""
        },
        {
         "metadata": "{}",
         "name": "CV1",
         "type": "\"string\""
        },
        {
         "metadata": "{}",
         "name": "ME1",
         "type": "\"string\""
        },
        {
         "metadata": "{}",
         "name": "KC2",
         "type": "\"string\""
        },
        {
         "metadata": "{}",
         "name": "CN1",
         "type": "\"string\""
        },
        {
         "metadata": "{}",
         "name": "UA1",
         "type": "\"string\""
        },
        {
         "metadata": "{}",
         "name": "GD5",
         "type": "\"string\""
        },
        {
         "metadata": "{}",
         "name": "UG2",
         "type": "\"string\""
        },
        {
         "metadata": "{}",
         "name": "AT3",
         "type": "\"string\""
        },
        {
         "metadata": "{}",
         "name": "AT4",
         "type": "\"string\""
        },
        {
         "metadata": "{}",
         "name": "GJ1",
         "type": "\"string\""
        },
        {
         "metadata": "{}",
         "name": "MV1",
         "type": "\"string\""
        },
        {
         "metadata": "{}",
         "name": "GA5",
         "type": "\"string\""
        },
        {
         "metadata": "{}",
         "name": "CT2",
         "type": "\"string\""
        },
        {
         "metadata": "{}",
         "name": "CG2",
         "type": "\"string\""
        },
        {
         "metadata": "{}",
         "name": "ED1",
         "type": "\"string\""
        },
        {
         "metadata": "{}",
         "name": "AE1",
         "type": "\"string\""
        },
        {
         "metadata": "{}",
         "name": "CO1",
         "type": "\"string\""
        },
        {
         "metadata": "{}",
         "name": "KE1",
         "type": "\"string\""
        },
        {
         "metadata": "{}",
         "name": "KB1",
         "type": "\"string\""
        },
        {
         "metadata": "{}",
         "name": "AI4",
         "type": "\"string\""
        },
        {
         "metadata": "{}",
         "name": "MW3",
         "type": "\"string\""
        },
        {
         "metadata": "{}",
         "name": "KG2",
         "type": "\"string\""
        },
        {
         "metadata": "{}",
         "name": "AA2",
         "type": "\"string\""
        },
        {
         "metadata": "{}",
         "name": "AX2",
         "type": "\"string\""
        },
        {
         "metadata": "{}",
         "name": "AY1",
         "type": "\"string\""
        },
        {
         "metadata": "{}",
         "name": "RH2",
         "type": "\"string\""
        },
        {
         "metadata": "{}",
         "name": "OE2",
         "type": "\"string\""
        },
        {
         "metadata": "{}",
         "name": "CU3",
         "type": "\"string\""
        },
        {
         "metadata": "{}",
         "name": "MH1",
         "type": "\"string\""
        },
        {
         "metadata": "{}",
         "name": "AM1",
         "type": "\"string\""
        },
        {
         "metadata": "{}",
         "name": "AU4",
         "type": "\"string\""
        },
        {
         "metadata": "{}",
         "name": "GA6",
         "type": "\"string\""
        },
        {
         "metadata": "{}",
         "name": "KG1",
         "type": "\"string\""
        },
        {
         "metadata": "{}",
         "name": "AU3",
         "type": "\"string\""
        },
        {
         "metadata": "{}",
         "name": "AT7",
         "type": "\"string\""
        },
        {
         "metadata": "{}",
         "name": "KD1",
         "type": "\"string\""
        },
        {
         "metadata": "{}",
         "name": "GL1",
         "type": "\"string\""
        },
        {
         "metadata": "{}",
         "name": "IA1",
         "type": "\"string\""
        },
        {
         "metadata": "{}",
         "name": "GG2",
         "type": "\"string\""
        },
        {
         "metadata": "{}",
         "name": "OD3",
         "type": "\"string\""
        },
        {
         "metadata": "{}",
         "name": "UG1",
         "type": "\"string\""
        },
        {
         "metadata": "{}",
         "name": "CB1",
         "type": "\"string\""
        },
        {
         "metadata": "{}",
         "name": "AI6",
         "type": "\"string\""
        },
        {
         "metadata": "{}",
         "name": "CI1",
         "type": "\"string\""
        },
        {
         "metadata": "{}",
         "name": "CV2",
         "type": "\"string\""
        },
        {
         "metadata": "{}",
         "name": "AZ2",
         "type": "\"string\""
        },
        {
         "metadata": "{}",
         "name": "AD1",
         "type": "\"string\""
        },
        {
         "metadata": "{}",
         "name": "AH1",
         "type": "\"string\""
        },
        {
         "metadata": "{}",
         "name": "WD1",
         "type": "\"string\""
        },
        {
         "metadata": "{}",
         "name": "AA4",
         "type": "\"string\""
        },
        {
         "metadata": "{}",
         "name": "KC1",
         "type": "\"string\""
        },
        {
         "metadata": "{}",
         "name": "IA2",
         "type": "\"string\""
        },
        {
         "metadata": "{}",
         "name": "CF3",
         "type": "\"string\""
        },
        {
         "metadata": "{}",
         "name": "AI2",
         "type": "\"string\""
        },
        {
         "metadata": "{}",
         "name": "AT1",
         "type": "\"string\""
        },
        {
         "metadata": "{}",
         "name": "GD4",
         "type": "\"string\""
        },
        {
         "metadata": "{}",
         "name": "AX3",
         "type": "\"string\""
        },
        {
         "metadata": "{}",
         "name": "AH4",
         "type": "\"string\""
        },
        {
         "metadata": "{}",
         "name": "KB3",
         "type": "\"string\""
        },
        {
         "metadata": "{}",
         "name": "CU1",
         "type": "\"string\""
        },
        {
         "metadata": "{}",
         "name": "CN4",
         "type": "\"string\""
        },
        {
         "metadata": "{}",
         "name": "AT2",
         "type": "\"string\""
        },
        {
         "metadata": "{}",
         "name": "CG1",
         "type": "\"string\""
        },
        {
         "metadata": "{}",
         "name": "CF1",
         "type": "\"string\""
        },
        {
         "metadata": "{}",
         "name": "GG1",
         "type": "\"string\""
        },
        {
         "metadata": "{}",
         "name": "MV2",
         "type": "\"string\""
        },
        {
         "metadata": "{}",
         "name": "CW1",
         "type": "\"string\""
        },
        {
         "metadata": "{}",
         "name": "GG4",
         "type": "\"string\""
        },
        {
         "metadata": "{}",
         "name": "AB1",
         "type": "\"string\""
        },
        {
         "metadata": "{}",
         "name": "AH5",
         "type": "\"string\""
        },
        {
         "metadata": "{}",
         "name": "CN3",
         "type": "\"string\""
        }
       ],
       "type": "table"
      }
     },
     "output_type": "display_data"
    }
   ],
   "source": [
    "from pyspark.sql.functions import col,isnan, when, count, col, split, trim, lit, avg, sum\n",
    "\n",
    "df_airlines = spark.read.parquet(f\"{mids261_mount_path}/datasets_final_project/parquet_airlines_data_3m/\")# Load the Jan 1st, 2015 for Weather\n",
    "df_weather =  spark.read.parquet(f\"{mids261_mount_path}/datasets_final_project/weather_data/*\").filter(col('DATE') < \"2015-01-02T00:00:00000\").cache()\n",
    "display(df_weather)"
   ]
  },
  {
   "cell_type": "code",
   "execution_count": 0,
   "metadata": {
    "application/vnd.databricks.v1+cell": {
     "cellMetadata": {
      "byteLimit": 2048000,
      "rowLimit": 10000
     },
     "inputWidgets": {},
     "nuid": "34afeded-2662-4547-bf96-af3742ee4eb2",
     "showTitle": false,
     "title": ""
    }
   },
   "outputs": [
    {
     "output_type": "display_data",
     "data": {
      "text/plain": [
       "\u001B[0;31m---------------------------------------------------------------------------\u001B[0m\n",
       "\u001B[0;31mAnalysisException\u001B[0m                         Traceback (most recent call last)\n",
       "File \u001B[0;32m<command-930177584947992>, line 3\u001B[0m\n",
       "\u001B[1;32m      1\u001B[0m \u001B[38;5;66;03m# This command will write to your Cloud Storage if right permissions are in place. \u001B[39;00m\n",
       "\u001B[1;32m      2\u001B[0m \u001B[38;5;66;03m# Navigate back to your Storage account in https://portal.azure.com, to inspect the files.\u001B[39;00m\n",
       "\u001B[0;32m----> 3\u001B[0m \u001B[43mdf_weather\u001B[49m\u001B[38;5;241;43m.\u001B[39;49m\u001B[43mwrite\u001B[49m\u001B[38;5;241;43m.\u001B[39;49m\u001B[43mparquet\u001B[49m\u001B[43m(\u001B[49m\u001B[38;5;124;43mf\u001B[39;49m\u001B[38;5;124;43m\"\u001B[39;49m\u001B[38;5;132;43;01m{\u001B[39;49;00m\u001B[43mteam_blob_url\u001B[49m\u001B[38;5;132;43;01m}\u001B[39;49;00m\u001B[38;5;124;43m/TP\u001B[39;49m\u001B[38;5;124;43m\"\u001B[39;49m\u001B[43m)\u001B[49m\n",
       "\n",
       "File \u001B[0;32m/databricks/spark/python/pyspark/instrumentation_utils.py:48\u001B[0m, in \u001B[0;36m_wrap_function.<locals>.wrapper\u001B[0;34m(*args, **kwargs)\u001B[0m\n",
       "\u001B[1;32m     46\u001B[0m start \u001B[38;5;241m=\u001B[39m time\u001B[38;5;241m.\u001B[39mperf_counter()\n",
       "\u001B[1;32m     47\u001B[0m \u001B[38;5;28;01mtry\u001B[39;00m:\n",
       "\u001B[0;32m---> 48\u001B[0m     res \u001B[38;5;241m=\u001B[39m \u001B[43mfunc\u001B[49m\u001B[43m(\u001B[49m\u001B[38;5;241;43m*\u001B[39;49m\u001B[43margs\u001B[49m\u001B[43m,\u001B[49m\u001B[43m \u001B[49m\u001B[38;5;241;43m*\u001B[39;49m\u001B[38;5;241;43m*\u001B[39;49m\u001B[43mkwargs\u001B[49m\u001B[43m)\u001B[49m\n",
       "\u001B[1;32m     49\u001B[0m     logger\u001B[38;5;241m.\u001B[39mlog_success(\n",
       "\u001B[1;32m     50\u001B[0m         module_name, class_name, function_name, time\u001B[38;5;241m.\u001B[39mperf_counter() \u001B[38;5;241m-\u001B[39m start, signature\n",
       "\u001B[1;32m     51\u001B[0m     )\n",
       "\u001B[1;32m     52\u001B[0m     \u001B[38;5;28;01mreturn\u001B[39;00m res\n",
       "\n",
       "File \u001B[0;32m/databricks/spark/python/pyspark/sql/readwriter.py:1721\u001B[0m, in \u001B[0;36mDataFrameWriter.parquet\u001B[0;34m(self, path, mode, partitionBy, compression)\u001B[0m\n",
       "\u001B[1;32m   1719\u001B[0m     \u001B[38;5;28mself\u001B[39m\u001B[38;5;241m.\u001B[39mpartitionBy(partitionBy)\n",
       "\u001B[1;32m   1720\u001B[0m \u001B[38;5;28mself\u001B[39m\u001B[38;5;241m.\u001B[39m_set_opts(compression\u001B[38;5;241m=\u001B[39mcompression)\n",
       "\u001B[0;32m-> 1721\u001B[0m \u001B[38;5;28;43mself\u001B[39;49m\u001B[38;5;241;43m.\u001B[39;49m\u001B[43m_jwrite\u001B[49m\u001B[38;5;241;43m.\u001B[39;49m\u001B[43mparquet\u001B[49m\u001B[43m(\u001B[49m\u001B[43mpath\u001B[49m\u001B[43m)\u001B[49m\n",
       "\n",
       "File \u001B[0;32m/databricks/spark/python/lib/py4j-0.10.9.7-src.zip/py4j/java_gateway.py:1322\u001B[0m, in \u001B[0;36mJavaMember.__call__\u001B[0;34m(self, *args)\u001B[0m\n",
       "\u001B[1;32m   1316\u001B[0m command \u001B[38;5;241m=\u001B[39m proto\u001B[38;5;241m.\u001B[39mCALL_COMMAND_NAME \u001B[38;5;241m+\u001B[39m\\\n",
       "\u001B[1;32m   1317\u001B[0m     \u001B[38;5;28mself\u001B[39m\u001B[38;5;241m.\u001B[39mcommand_header \u001B[38;5;241m+\u001B[39m\\\n",
       "\u001B[1;32m   1318\u001B[0m     args_command \u001B[38;5;241m+\u001B[39m\\\n",
       "\u001B[1;32m   1319\u001B[0m     proto\u001B[38;5;241m.\u001B[39mEND_COMMAND_PART\n",
       "\u001B[1;32m   1321\u001B[0m answer \u001B[38;5;241m=\u001B[39m \u001B[38;5;28mself\u001B[39m\u001B[38;5;241m.\u001B[39mgateway_client\u001B[38;5;241m.\u001B[39msend_command(command)\n",
       "\u001B[0;32m-> 1322\u001B[0m return_value \u001B[38;5;241m=\u001B[39m \u001B[43mget_return_value\u001B[49m\u001B[43m(\u001B[49m\n",
       "\u001B[1;32m   1323\u001B[0m \u001B[43m    \u001B[49m\u001B[43manswer\u001B[49m\u001B[43m,\u001B[49m\u001B[43m \u001B[49m\u001B[38;5;28;43mself\u001B[39;49m\u001B[38;5;241;43m.\u001B[39;49m\u001B[43mgateway_client\u001B[49m\u001B[43m,\u001B[49m\u001B[43m \u001B[49m\u001B[38;5;28;43mself\u001B[39;49m\u001B[38;5;241;43m.\u001B[39;49m\u001B[43mtarget_id\u001B[49m\u001B[43m,\u001B[49m\u001B[43m \u001B[49m\u001B[38;5;28;43mself\u001B[39;49m\u001B[38;5;241;43m.\u001B[39;49m\u001B[43mname\u001B[49m\u001B[43m)\u001B[49m\n",
       "\u001B[1;32m   1325\u001B[0m \u001B[38;5;28;01mfor\u001B[39;00m temp_arg \u001B[38;5;129;01min\u001B[39;00m temp_args:\n",
       "\u001B[1;32m   1326\u001B[0m     \u001B[38;5;28;01mif\u001B[39;00m \u001B[38;5;28mhasattr\u001B[39m(temp_arg, \u001B[38;5;124m\"\u001B[39m\u001B[38;5;124m_detach\u001B[39m\u001B[38;5;124m\"\u001B[39m):\n",
       "\n",
       "File \u001B[0;32m/databricks/spark/python/pyspark/errors/exceptions/captured.py:194\u001B[0m, in \u001B[0;36mcapture_sql_exception.<locals>.deco\u001B[0;34m(*a, **kw)\u001B[0m\n",
       "\u001B[1;32m    190\u001B[0m converted \u001B[38;5;241m=\u001B[39m convert_exception(e\u001B[38;5;241m.\u001B[39mjava_exception)\n",
       "\u001B[1;32m    191\u001B[0m \u001B[38;5;28;01mif\u001B[39;00m \u001B[38;5;129;01mnot\u001B[39;00m \u001B[38;5;28misinstance\u001B[39m(converted, UnknownException):\n",
       "\u001B[1;32m    192\u001B[0m     \u001B[38;5;66;03m# Hide where the exception came from that shows a non-Pythonic\u001B[39;00m\n",
       "\u001B[1;32m    193\u001B[0m     \u001B[38;5;66;03m# JVM exception message.\u001B[39;00m\n",
       "\u001B[0;32m--> 194\u001B[0m     \u001B[38;5;28;01mraise\u001B[39;00m converted \u001B[38;5;28;01mfrom\u001B[39;00m \u001B[38;5;28mNone\u001B[39m\n",
       "\u001B[1;32m    195\u001B[0m \u001B[38;5;28;01melse\u001B[39;00m:\n",
       "\u001B[1;32m    196\u001B[0m     \u001B[38;5;28;01mraise\u001B[39;00m\n",
       "\n",
       "\u001B[0;31mAnalysisException\u001B[0m: [PATH_ALREADY_EXISTS] Path wasbs://w261team61@w261finalteam61.blob.core.windows.net/TP already exists. Set mode as \"overwrite\" to overwrite the existing path."
      ]
     },
     "metadata": {
      "application/vnd.databricks.v1+output": {
       "arguments": {},
       "data": "\u001B[0;31m---------------------------------------------------------------------------\u001B[0m\n\u001B[0;31mAnalysisException\u001B[0m                         Traceback (most recent call last)\nFile \u001B[0;32m<command-930177584947992>, line 3\u001B[0m\n\u001B[1;32m      1\u001B[0m \u001B[38;5;66;03m# This command will write to your Cloud Storage if right permissions are in place. \u001B[39;00m\n\u001B[1;32m      2\u001B[0m \u001B[38;5;66;03m# Navigate back to your Storage account in https://portal.azure.com, to inspect the files.\u001B[39;00m\n\u001B[0;32m----> 3\u001B[0m \u001B[43mdf_weather\u001B[49m\u001B[38;5;241;43m.\u001B[39;49m\u001B[43mwrite\u001B[49m\u001B[38;5;241;43m.\u001B[39;49m\u001B[43mparquet\u001B[49m\u001B[43m(\u001B[49m\u001B[38;5;124;43mf\u001B[39;49m\u001B[38;5;124;43m\"\u001B[39;49m\u001B[38;5;132;43;01m{\u001B[39;49;00m\u001B[43mteam_blob_url\u001B[49m\u001B[38;5;132;43;01m}\u001B[39;49;00m\u001B[38;5;124;43m/TP\u001B[39;49m\u001B[38;5;124;43m\"\u001B[39;49m\u001B[43m)\u001B[49m\n\nFile \u001B[0;32m/databricks/spark/python/pyspark/instrumentation_utils.py:48\u001B[0m, in \u001B[0;36m_wrap_function.<locals>.wrapper\u001B[0;34m(*args, **kwargs)\u001B[0m\n\u001B[1;32m     46\u001B[0m start \u001B[38;5;241m=\u001B[39m time\u001B[38;5;241m.\u001B[39mperf_counter()\n\u001B[1;32m     47\u001B[0m \u001B[38;5;28;01mtry\u001B[39;00m:\n\u001B[0;32m---> 48\u001B[0m     res \u001B[38;5;241m=\u001B[39m \u001B[43mfunc\u001B[49m\u001B[43m(\u001B[49m\u001B[38;5;241;43m*\u001B[39;49m\u001B[43margs\u001B[49m\u001B[43m,\u001B[49m\u001B[43m \u001B[49m\u001B[38;5;241;43m*\u001B[39;49m\u001B[38;5;241;43m*\u001B[39;49m\u001B[43mkwargs\u001B[49m\u001B[43m)\u001B[49m\n\u001B[1;32m     49\u001B[0m     logger\u001B[38;5;241m.\u001B[39mlog_success(\n\u001B[1;32m     50\u001B[0m         module_name, class_name, function_name, time\u001B[38;5;241m.\u001B[39mperf_counter() \u001B[38;5;241m-\u001B[39m start, signature\n\u001B[1;32m     51\u001B[0m     )\n\u001B[1;32m     52\u001B[0m     \u001B[38;5;28;01mreturn\u001B[39;00m res\n\nFile \u001B[0;32m/databricks/spark/python/pyspark/sql/readwriter.py:1721\u001B[0m, in \u001B[0;36mDataFrameWriter.parquet\u001B[0;34m(self, path, mode, partitionBy, compression)\u001B[0m\n\u001B[1;32m   1719\u001B[0m     \u001B[38;5;28mself\u001B[39m\u001B[38;5;241m.\u001B[39mpartitionBy(partitionBy)\n\u001B[1;32m   1720\u001B[0m \u001B[38;5;28mself\u001B[39m\u001B[38;5;241m.\u001B[39m_set_opts(compression\u001B[38;5;241m=\u001B[39mcompression)\n\u001B[0;32m-> 1721\u001B[0m \u001B[38;5;28;43mself\u001B[39;49m\u001B[38;5;241;43m.\u001B[39;49m\u001B[43m_jwrite\u001B[49m\u001B[38;5;241;43m.\u001B[39;49m\u001B[43mparquet\u001B[49m\u001B[43m(\u001B[49m\u001B[43mpath\u001B[49m\u001B[43m)\u001B[49m\n\nFile \u001B[0;32m/databricks/spark/python/lib/py4j-0.10.9.7-src.zip/py4j/java_gateway.py:1322\u001B[0m, in \u001B[0;36mJavaMember.__call__\u001B[0;34m(self, *args)\u001B[0m\n\u001B[1;32m   1316\u001B[0m command \u001B[38;5;241m=\u001B[39m proto\u001B[38;5;241m.\u001B[39mCALL_COMMAND_NAME \u001B[38;5;241m+\u001B[39m\\\n\u001B[1;32m   1317\u001B[0m     \u001B[38;5;28mself\u001B[39m\u001B[38;5;241m.\u001B[39mcommand_header \u001B[38;5;241m+\u001B[39m\\\n\u001B[1;32m   1318\u001B[0m     args_command \u001B[38;5;241m+\u001B[39m\\\n\u001B[1;32m   1319\u001B[0m     proto\u001B[38;5;241m.\u001B[39mEND_COMMAND_PART\n\u001B[1;32m   1321\u001B[0m answer \u001B[38;5;241m=\u001B[39m \u001B[38;5;28mself\u001B[39m\u001B[38;5;241m.\u001B[39mgateway_client\u001B[38;5;241m.\u001B[39msend_command(command)\n\u001B[0;32m-> 1322\u001B[0m return_value \u001B[38;5;241m=\u001B[39m \u001B[43mget_return_value\u001B[49m\u001B[43m(\u001B[49m\n\u001B[1;32m   1323\u001B[0m \u001B[43m    \u001B[49m\u001B[43manswer\u001B[49m\u001B[43m,\u001B[49m\u001B[43m \u001B[49m\u001B[38;5;28;43mself\u001B[39;49m\u001B[38;5;241;43m.\u001B[39;49m\u001B[43mgateway_client\u001B[49m\u001B[43m,\u001B[49m\u001B[43m \u001B[49m\u001B[38;5;28;43mself\u001B[39;49m\u001B[38;5;241;43m.\u001B[39;49m\u001B[43mtarget_id\u001B[49m\u001B[43m,\u001B[49m\u001B[43m \u001B[49m\u001B[38;5;28;43mself\u001B[39;49m\u001B[38;5;241;43m.\u001B[39;49m\u001B[43mname\u001B[49m\u001B[43m)\u001B[49m\n\u001B[1;32m   1325\u001B[0m \u001B[38;5;28;01mfor\u001B[39;00m temp_arg \u001B[38;5;129;01min\u001B[39;00m temp_args:\n\u001B[1;32m   1326\u001B[0m     \u001B[38;5;28;01mif\u001B[39;00m \u001B[38;5;28mhasattr\u001B[39m(temp_arg, \u001B[38;5;124m\"\u001B[39m\u001B[38;5;124m_detach\u001B[39m\u001B[38;5;124m\"\u001B[39m):\n\nFile \u001B[0;32m/databricks/spark/python/pyspark/errors/exceptions/captured.py:194\u001B[0m, in \u001B[0;36mcapture_sql_exception.<locals>.deco\u001B[0;34m(*a, **kw)\u001B[0m\n\u001B[1;32m    190\u001B[0m converted \u001B[38;5;241m=\u001B[39m convert_exception(e\u001B[38;5;241m.\u001B[39mjava_exception)\n\u001B[1;32m    191\u001B[0m \u001B[38;5;28;01mif\u001B[39;00m \u001B[38;5;129;01mnot\u001B[39;00m \u001B[38;5;28misinstance\u001B[39m(converted, UnknownException):\n\u001B[1;32m    192\u001B[0m     \u001B[38;5;66;03m# Hide where the exception came from that shows a non-Pythonic\u001B[39;00m\n\u001B[1;32m    193\u001B[0m     \u001B[38;5;66;03m# JVM exception message.\u001B[39;00m\n\u001B[0;32m--> 194\u001B[0m     \u001B[38;5;28;01mraise\u001B[39;00m converted \u001B[38;5;28;01mfrom\u001B[39;00m \u001B[38;5;28mNone\u001B[39m\n\u001B[1;32m    195\u001B[0m \u001B[38;5;28;01melse\u001B[39;00m:\n\u001B[1;32m    196\u001B[0m     \u001B[38;5;28;01mraise\u001B[39;00m\n\n\u001B[0;31mAnalysisException\u001B[0m: [PATH_ALREADY_EXISTS] Path wasbs://w261team61@w261finalteam61.blob.core.windows.net/TP already exists. Set mode as \"overwrite\" to overwrite the existing path.",
       "errorSummary": "<span class='ansi-red-fg'>AnalysisException</span>: [PATH_ALREADY_EXISTS] Path wasbs://w261team61@w261finalteam61.blob.core.windows.net/TP already exists. Set mode as \"overwrite\" to overwrite the existing path.",
       "errorTraceType": "ansi",
       "metadata": {},
       "type": "ipynbError"
      }
     },
     "output_type": "display_data"
    }
   ],
   "source": [
    "# This command will write to your Cloud Storage if right permissions are in place. \n",
    "# Navigate back to your Storage account in https://portal.azure.com, to inspect the files.\n",
    "df_weather.write.parquet(f\"{team_blob_url}/TP\")"
   ]
  },
  {
   "cell_type": "code",
   "execution_count": 0,
   "metadata": {
    "application/vnd.databricks.v1+cell": {
     "cellMetadata": {
      "byteLimit": 2048000,
      "rowLimit": 10000
     },
     "inputWidgets": {},
     "nuid": "6a10f5b2-e60f-4cf9-b943-acfe3984241b",
     "showTitle": false,
     "title": ""
    }
   },
   "outputs": [
    {
     "output_type": "display_data",
     "data": {
      "text/html": [
       "<style scoped>\n",
       "  .table-result-container {\n",
       "    max-height: 300px;\n",
       "    overflow: auto;\n",
       "  }\n",
       "  table, th, td {\n",
       "    border: 1px solid black;\n",
       "    border-collapse: collapse;\n",
       "  }\n",
       "  th, td {\n",
       "    padding: 5px;\n",
       "  }\n",
       "  th {\n",
       "    text-align: left;\n",
       "  }\n",
       "</style><div class='table-result-container'><table class='table-result'><thead style='background-color: white'><tr><th>path</th><th>name</th><th>size</th><th>modificationTime</th></tr></thead><tbody><tr><td>wasbs://w261team61@w261finalteam61.blob.core.windows.net/TP/_SUCCESS</td><td>_SUCCESS</td><td>0</td><td>1698747699000</td></tr><tr><td>wasbs://w261team61@w261finalteam61.blob.core.windows.net/TP/_committed_1934879667904567644</td><td>_committed_1934879667904567644</td><td>318</td><td>1698747699000</td></tr><tr><td>wasbs://w261team61@w261finalteam61.blob.core.windows.net/TP/_started_1934879667904567644</td><td>_started_1934879667904567644</td><td>0</td><td>1698747695000</td></tr><tr><td>wasbs://w261team61@w261finalteam61.blob.core.windows.net/TP/part-00000-tid-1934879667904567644-69f8ef9a-fc5e-4e94-9919-4069b9bd903c-0-1-c000.snappy.parquet</td><td>part-00000-tid-1934879667904567644-69f8ef9a-fc5e-4e94-9919-4069b9bd903c-0-1-c000.snappy.parquet</td><td>1323</td><td>1698747698000</td></tr><tr><td>wasbs://w261team61@w261finalteam61.blob.core.windows.net/TP/part-00001-tid-1934879667904567644-69f8ef9a-fc5e-4e94-9919-4069b9bd903c-1-1-c000.snappy.parquet</td><td>part-00001-tid-1934879667904567644-69f8ef9a-fc5e-4e94-9919-4069b9bd903c-1-1-c000.snappy.parquet</td><td>1283</td><td>1698747698000</td></tr><tr><td>wasbs://w261team61@w261finalteam61.blob.core.windows.net/TP/part-00002-tid-1934879667904567644-69f8ef9a-fc5e-4e94-9919-4069b9bd903c-2-1-c000.snappy.parquet</td><td>part-00002-tid-1934879667904567644-69f8ef9a-fc5e-4e94-9919-4069b9bd903c-2-1-c000.snappy.parquet</td><td>1323</td><td>1698747698000</td></tr></tbody></table></div>"
      ]
     },
     "metadata": {
      "application/vnd.databricks.v1+output": {
       "addedWidgets": {},
       "aggData": [],
       "aggError": "",
       "aggOverflow": false,
       "aggSchema": [],
       "aggSeriesLimitReached": false,
       "aggType": "",
       "arguments": {},
       "columnCustomDisplayInfos": {},
       "data": [
        [
         "wasbs://w261team61@w261finalteam61.blob.core.windows.net/TP/_SUCCESS",
         "_SUCCESS",
         0,
         1698747699000
        ],
        [
         "wasbs://w261team61@w261finalteam61.blob.core.windows.net/TP/_committed_1934879667904567644",
         "_committed_1934879667904567644",
         318,
         1698747699000
        ],
        [
         "wasbs://w261team61@w261finalteam61.blob.core.windows.net/TP/_started_1934879667904567644",
         "_started_1934879667904567644",
         0,
         1698747695000
        ],
        [
         "wasbs://w261team61@w261finalteam61.blob.core.windows.net/TP/part-00000-tid-1934879667904567644-69f8ef9a-fc5e-4e94-9919-4069b9bd903c-0-1-c000.snappy.parquet",
         "part-00000-tid-1934879667904567644-69f8ef9a-fc5e-4e94-9919-4069b9bd903c-0-1-c000.snappy.parquet",
         1323,
         1698747698000
        ],
        [
         "wasbs://w261team61@w261finalteam61.blob.core.windows.net/TP/part-00001-tid-1934879667904567644-69f8ef9a-fc5e-4e94-9919-4069b9bd903c-1-1-c000.snappy.parquet",
         "part-00001-tid-1934879667904567644-69f8ef9a-fc5e-4e94-9919-4069b9bd903c-1-1-c000.snappy.parquet",
         1283,
         1698747698000
        ],
        [
         "wasbs://w261team61@w261finalteam61.blob.core.windows.net/TP/part-00002-tid-1934879667904567644-69f8ef9a-fc5e-4e94-9919-4069b9bd903c-2-1-c000.snappy.parquet",
         "part-00002-tid-1934879667904567644-69f8ef9a-fc5e-4e94-9919-4069b9bd903c-2-1-c000.snappy.parquet",
         1323,
         1698747698000
        ]
       ],
       "datasetInfos": [],
       "dbfsResultPath": null,
       "isJsonSchema": true,
       "metadata": {},
       "overflow": false,
       "plotOptions": {
        "customPlotOptions": {},
        "displayType": "table",
        "pivotAggregation": null,
        "pivotColumns": null,
        "xColumns": null,
        "yColumns": null
       },
       "removedWidgets": [],
       "schema": [
        {
         "metadata": "{}",
         "name": "path",
         "type": "\"string\""
        },
        {
         "metadata": "{}",
         "name": "name",
         "type": "\"string\""
        },
        {
         "metadata": "{}",
         "name": "size",
         "type": "\"long\""
        },
        {
         "metadata": "{}",
         "name": "modificationTime",
         "type": "\"long\""
        }
       ],
       "type": "table"
      }
     },
     "output_type": "display_data"
    }
   ],
   "source": [
    "# see what's in the parquet folder \n",
    "display(dbutils.fs.ls(f\"{team_blob_url}/TP\"))"
   ]
  },
  {
   "cell_type": "code",
   "execution_count": 0,
   "metadata": {
    "application/vnd.databricks.v1+cell": {
     "cellMetadata": {
      "byteLimit": 2048000,
      "rowLimit": 10000
     },
     "inputWidgets": {},
     "nuid": "8f2ea511-d1ee-4cbf-8166-5dd4353f53e9",
     "showTitle": false,
     "title": ""
    }
   },
   "outputs": [
    {
     "output_type": "display_data",
     "data": {
      "text/html": [
       "<style scoped>\n",
       "  .table-result-container {\n",
       "    max-height: 300px;\n",
       "    overflow: auto;\n",
       "  }\n",
       "  table, th, td {\n",
       "    border: 1px solid black;\n",
       "    border-collapse: collapse;\n",
       "  }\n",
       "  th, td {\n",
       "    padding: 5px;\n",
       "  }\n",
       "  th {\n",
       "    text-align: left;\n",
       "  }\n",
       "</style><div class='table-result-container'><table class='table-result'><thead style='background-color: white'><tr><th>x</th><th>y</th><th>z</th><th>a_string</th></tr></thead><tbody><tr><td>1</td><td>2</td><td>3</td><td>Jane</td></tr><tr><td>12</td><td>12</td><td>12</td><td>John</td></tr><tr><td>2</td><td>2</td><td>2</td><td>null</td></tr></tbody></table></div>"
      ]
     },
     "metadata": {
      "application/vnd.databricks.v1+output": {
       "addedWidgets": {},
       "aggData": [],
       "aggError": "",
       "aggOverflow": false,
       "aggSchema": [],
       "aggSeriesLimitReached": false,
       "aggType": "",
       "arguments": {},
       "columnCustomDisplayInfos": {},
       "data": [
        [
         1,
         2,
         3,
         "Jane"
        ],
        [
         12,
         12,
         12,
         "John"
        ],
        [
         2,
         2,
         2,
         null
        ]
       ],
       "datasetInfos": [],
       "dbfsResultPath": null,
       "isJsonSchema": true,
       "metadata": {},
       "overflow": false,
       "plotOptions": {
        "customPlotOptions": {},
        "displayType": "table",
        "pivotAggregation": null,
        "pivotColumns": null,
        "xColumns": null,
        "yColumns": null
       },
       "removedWidgets": [],
       "schema": [
        {
         "metadata": "{}",
         "name": "x",
         "type": "\"long\""
        },
        {
         "metadata": "{}",
         "name": "y",
         "type": "\"long\""
        },
        {
         "metadata": "{}",
         "name": "z",
         "type": "\"long\""
        },
        {
         "metadata": "{}",
         "name": "a_string",
         "type": "\"string\""
        }
       ],
       "type": "table"
      }
     },
     "output_type": "display_data"
    }
   ],
   "source": [
    "# Load it the previous DF as a new DF\n",
    "df_weather_new = spark.read.parquet(f\"{team_blob_url}/TP\")\n",
    "display(df_weather_new)"
   ]
  },
  {
   "cell_type": "code",
   "execution_count": 0,
   "metadata": {
    "application/vnd.databricks.v1+cell": {
     "cellMetadata": {
      "byteLimit": 2048000,
      "rowLimit": 10000
     },
     "inputWidgets": {},
     "nuid": "9669a6ff-e156-4f24-bd1d-5af135af51c0",
     "showTitle": false,
     "title": ""
    }
   },
   "outputs": [
    {
     "output_type": "stream",
     "name": "stdout",
     "output_type": "stream",
     "text": [
      "Your new df_weather has 3 rows.\n"
     ]
    },
    {
     "output_type": "display_data",
     "data": {
      "text/plain": [
       "\u001B[0;31m---------------------------------------------------------------------------\u001B[0m\n",
       "\u001B[0;31mAnalysisException\u001B[0m                         Traceback (most recent call last)\n",
       "File \u001B[0;32m<command-930177584947995>, line 2\u001B[0m\n",
       "\u001B[1;32m      1\u001B[0m \u001B[38;5;28mprint\u001B[39m(\u001B[38;5;124mf\u001B[39m\u001B[38;5;124m\"\u001B[39m\u001B[38;5;124mYour new df_weather has \u001B[39m\u001B[38;5;132;01m{\u001B[39;00mdf_weather_new\u001B[38;5;241m.\u001B[39mcount()\u001B[38;5;132;01m:\u001B[39;00m\u001B[38;5;124m,\u001B[39m\u001B[38;5;132;01m}\u001B[39;00m\u001B[38;5;124m rows.\u001B[39m\u001B[38;5;124m\"\u001B[39m)\n",
       "\u001B[0;32m----> 2\u001B[0m \u001B[38;5;28mprint\u001B[39m(\u001B[38;5;124mf\u001B[39m\u001B[38;5;124m'\u001B[39m\u001B[38;5;124mMax date: \u001B[39m\u001B[38;5;132;01m{\u001B[39;00mdf_weather_new\u001B[38;5;241m.\u001B[39mselect([\u001B[38;5;28mmax\u001B[39m(\u001B[38;5;124m\"\u001B[39m\u001B[38;5;124mDATE\u001B[39m\u001B[38;5;124m\"\u001B[39m)])\u001B[38;5;241m.\u001B[39mcollect()[\u001B[38;5;241m0\u001B[39m][\u001B[38;5;124m\"\u001B[39m\u001B[38;5;124mmax(DATE)\u001B[39m\u001B[38;5;124m\"\u001B[39m]\u001B[38;5;241m.\u001B[39mstrftime(\u001B[38;5;124m\"\u001B[39m\u001B[38;5;124m%\u001B[39m\u001B[38;5;124mY-\u001B[39m\u001B[38;5;124m%\u001B[39m\u001B[38;5;124mm-\u001B[39m\u001B[38;5;132;01m%d\u001B[39;00m\u001B[38;5;124m \u001B[39m\u001B[38;5;124m%\u001B[39m\u001B[38;5;124mH:\u001B[39m\u001B[38;5;124m%\u001B[39m\u001B[38;5;124mM:\u001B[39m\u001B[38;5;124m%\u001B[39m\u001B[38;5;124mS\u001B[39m\u001B[38;5;124m\"\u001B[39m)\u001B[38;5;132;01m}\u001B[39;00m\u001B[38;5;124m'\u001B[39m)\n",
       "\n",
       "File \u001B[0;32m/databricks/spark/python/pyspark/instrumentation_utils.py:48\u001B[0m, in \u001B[0;36m_wrap_function.<locals>.wrapper\u001B[0;34m(*args, **kwargs)\u001B[0m\n",
       "\u001B[1;32m     46\u001B[0m start \u001B[38;5;241m=\u001B[39m time\u001B[38;5;241m.\u001B[39mperf_counter()\n",
       "\u001B[1;32m     47\u001B[0m \u001B[38;5;28;01mtry\u001B[39;00m:\n",
       "\u001B[0;32m---> 48\u001B[0m     res \u001B[38;5;241m=\u001B[39m \u001B[43mfunc\u001B[49m\u001B[43m(\u001B[49m\u001B[38;5;241;43m*\u001B[39;49m\u001B[43margs\u001B[49m\u001B[43m,\u001B[49m\u001B[43m \u001B[49m\u001B[38;5;241;43m*\u001B[39;49m\u001B[38;5;241;43m*\u001B[39;49m\u001B[43mkwargs\u001B[49m\u001B[43m)\u001B[49m\n",
       "\u001B[1;32m     49\u001B[0m     logger\u001B[38;5;241m.\u001B[39mlog_success(\n",
       "\u001B[1;32m     50\u001B[0m         module_name, class_name, function_name, time\u001B[38;5;241m.\u001B[39mperf_counter() \u001B[38;5;241m-\u001B[39m start, signature\n",
       "\u001B[1;32m     51\u001B[0m     )\n",
       "\u001B[1;32m     52\u001B[0m     \u001B[38;5;28;01mreturn\u001B[39;00m res\n",
       "\n",
       "File \u001B[0;32m/databricks/spark/python/pyspark/sql/dataframe.py:3168\u001B[0m, in \u001B[0;36mDataFrame.select\u001B[0;34m(self, *cols)\u001B[0m\n",
       "\u001B[1;32m   3123\u001B[0m \u001B[38;5;28;01mdef\u001B[39;00m \u001B[38;5;21mselect\u001B[39m(\u001B[38;5;28mself\u001B[39m, \u001B[38;5;241m*\u001B[39mcols: \u001B[38;5;124m\"\u001B[39m\u001B[38;5;124mColumnOrName\u001B[39m\u001B[38;5;124m\"\u001B[39m) \u001B[38;5;241m-\u001B[39m\u001B[38;5;241m>\u001B[39m \u001B[38;5;124m\"\u001B[39m\u001B[38;5;124mDataFrame\u001B[39m\u001B[38;5;124m\"\u001B[39m:  \u001B[38;5;66;03m# type: ignore[misc]\u001B[39;00m\n",
       "\u001B[1;32m   3124\u001B[0m     \u001B[38;5;124;03m\"\"\"Projects a set of expressions and returns a new :class:`DataFrame`.\u001B[39;00m\n",
       "\u001B[1;32m   3125\u001B[0m \n",
       "\u001B[1;32m   3126\u001B[0m \u001B[38;5;124;03m    .. versionadded:: 1.3.0\u001B[39;00m\n",
       "\u001B[0;32m   (...)\u001B[0m\n",
       "\u001B[1;32m   3166\u001B[0m \u001B[38;5;124;03m    +-----+---+\u001B[39;00m\n",
       "\u001B[1;32m   3167\u001B[0m \u001B[38;5;124;03m    \"\"\"\u001B[39;00m\n",
       "\u001B[0;32m-> 3168\u001B[0m     jdf \u001B[38;5;241m=\u001B[39m \u001B[38;5;28;43mself\u001B[39;49m\u001B[38;5;241;43m.\u001B[39;49m\u001B[43m_jdf\u001B[49m\u001B[38;5;241;43m.\u001B[39;49m\u001B[43mselect\u001B[49m\u001B[43m(\u001B[49m\u001B[38;5;28;43mself\u001B[39;49m\u001B[38;5;241;43m.\u001B[39;49m\u001B[43m_jcols\u001B[49m\u001B[43m(\u001B[49m\u001B[38;5;241;43m*\u001B[39;49m\u001B[43mcols\u001B[49m\u001B[43m)\u001B[49m\u001B[43m)\u001B[49m\n",
       "\u001B[1;32m   3169\u001B[0m     \u001B[38;5;28;01mreturn\u001B[39;00m DataFrame(jdf, \u001B[38;5;28mself\u001B[39m\u001B[38;5;241m.\u001B[39msparkSession)\n",
       "\n",
       "File \u001B[0;32m/databricks/spark/python/lib/py4j-0.10.9.7-src.zip/py4j/java_gateway.py:1322\u001B[0m, in \u001B[0;36mJavaMember.__call__\u001B[0;34m(self, *args)\u001B[0m\n",
       "\u001B[1;32m   1316\u001B[0m command \u001B[38;5;241m=\u001B[39m proto\u001B[38;5;241m.\u001B[39mCALL_COMMAND_NAME \u001B[38;5;241m+\u001B[39m\\\n",
       "\u001B[1;32m   1317\u001B[0m     \u001B[38;5;28mself\u001B[39m\u001B[38;5;241m.\u001B[39mcommand_header \u001B[38;5;241m+\u001B[39m\\\n",
       "\u001B[1;32m   1318\u001B[0m     args_command \u001B[38;5;241m+\u001B[39m\\\n",
       "\u001B[1;32m   1319\u001B[0m     proto\u001B[38;5;241m.\u001B[39mEND_COMMAND_PART\n",
       "\u001B[1;32m   1321\u001B[0m answer \u001B[38;5;241m=\u001B[39m \u001B[38;5;28mself\u001B[39m\u001B[38;5;241m.\u001B[39mgateway_client\u001B[38;5;241m.\u001B[39msend_command(command)\n",
       "\u001B[0;32m-> 1322\u001B[0m return_value \u001B[38;5;241m=\u001B[39m \u001B[43mget_return_value\u001B[49m\u001B[43m(\u001B[49m\n",
       "\u001B[1;32m   1323\u001B[0m \u001B[43m    \u001B[49m\u001B[43manswer\u001B[49m\u001B[43m,\u001B[49m\u001B[43m \u001B[49m\u001B[38;5;28;43mself\u001B[39;49m\u001B[38;5;241;43m.\u001B[39;49m\u001B[43mgateway_client\u001B[49m\u001B[43m,\u001B[49m\u001B[43m \u001B[49m\u001B[38;5;28;43mself\u001B[39;49m\u001B[38;5;241;43m.\u001B[39;49m\u001B[43mtarget_id\u001B[49m\u001B[43m,\u001B[49m\u001B[43m \u001B[49m\u001B[38;5;28;43mself\u001B[39;49m\u001B[38;5;241;43m.\u001B[39;49m\u001B[43mname\u001B[49m\u001B[43m)\u001B[49m\n",
       "\u001B[1;32m   1325\u001B[0m \u001B[38;5;28;01mfor\u001B[39;00m temp_arg \u001B[38;5;129;01min\u001B[39;00m temp_args:\n",
       "\u001B[1;32m   1326\u001B[0m     \u001B[38;5;28;01mif\u001B[39;00m \u001B[38;5;28mhasattr\u001B[39m(temp_arg, \u001B[38;5;124m\"\u001B[39m\u001B[38;5;124m_detach\u001B[39m\u001B[38;5;124m\"\u001B[39m):\n",
       "\n",
       "File \u001B[0;32m/databricks/spark/python/pyspark/errors/exceptions/captured.py:194\u001B[0m, in \u001B[0;36mcapture_sql_exception.<locals>.deco\u001B[0;34m(*a, **kw)\u001B[0m\n",
       "\u001B[1;32m    190\u001B[0m converted \u001B[38;5;241m=\u001B[39m convert_exception(e\u001B[38;5;241m.\u001B[39mjava_exception)\n",
       "\u001B[1;32m    191\u001B[0m \u001B[38;5;28;01mif\u001B[39;00m \u001B[38;5;129;01mnot\u001B[39;00m \u001B[38;5;28misinstance\u001B[39m(converted, UnknownException):\n",
       "\u001B[1;32m    192\u001B[0m     \u001B[38;5;66;03m# Hide where the exception came from that shows a non-Pythonic\u001B[39;00m\n",
       "\u001B[1;32m    193\u001B[0m     \u001B[38;5;66;03m# JVM exception message.\u001B[39;00m\n",
       "\u001B[0;32m--> 194\u001B[0m     \u001B[38;5;28;01mraise\u001B[39;00m converted \u001B[38;5;28;01mfrom\u001B[39;00m \u001B[38;5;28mNone\u001B[39m\n",
       "\u001B[1;32m    195\u001B[0m \u001B[38;5;28;01melse\u001B[39;00m:\n",
       "\u001B[1;32m    196\u001B[0m     \u001B[38;5;28;01mraise\u001B[39;00m\n",
       "\n",
       "\u001B[0;31mAnalysisException\u001B[0m: [UNRESOLVED_COLUMN.WITH_SUGGESTION] A column or function parameter with name `T` cannot be resolved. Did you mean one of the following? [`x`, `y`, `z`, `a_string`].;\n",
       "'Project ['T]\n",
       "+- Relation [x#8250L,y#8251L,z#8252L,a_string#8253] parquet\n"
      ]
     },
     "metadata": {
      "application/vnd.databricks.v1+output": {
       "arguments": {},
       "data": "\u001B[0;31m---------------------------------------------------------------------------\u001B[0m\n\u001B[0;31mAnalysisException\u001B[0m                         Traceback (most recent call last)\nFile \u001B[0;32m<command-930177584947995>, line 2\u001B[0m\n\u001B[1;32m      1\u001B[0m \u001B[38;5;28mprint\u001B[39m(\u001B[38;5;124mf\u001B[39m\u001B[38;5;124m\"\u001B[39m\u001B[38;5;124mYour new df_weather has \u001B[39m\u001B[38;5;132;01m{\u001B[39;00mdf_weather_new\u001B[38;5;241m.\u001B[39mcount()\u001B[38;5;132;01m:\u001B[39;00m\u001B[38;5;124m,\u001B[39m\u001B[38;5;132;01m}\u001B[39;00m\u001B[38;5;124m rows.\u001B[39m\u001B[38;5;124m\"\u001B[39m)\n\u001B[0;32m----> 2\u001B[0m \u001B[38;5;28mprint\u001B[39m(\u001B[38;5;124mf\u001B[39m\u001B[38;5;124m'\u001B[39m\u001B[38;5;124mMax date: \u001B[39m\u001B[38;5;132;01m{\u001B[39;00mdf_weather_new\u001B[38;5;241m.\u001B[39mselect([\u001B[38;5;28mmax\u001B[39m(\u001B[38;5;124m\"\u001B[39m\u001B[38;5;124mDATE\u001B[39m\u001B[38;5;124m\"\u001B[39m)])\u001B[38;5;241m.\u001B[39mcollect()[\u001B[38;5;241m0\u001B[39m][\u001B[38;5;124m\"\u001B[39m\u001B[38;5;124mmax(DATE)\u001B[39m\u001B[38;5;124m\"\u001B[39m]\u001B[38;5;241m.\u001B[39mstrftime(\u001B[38;5;124m\"\u001B[39m\u001B[38;5;124m%\u001B[39m\u001B[38;5;124mY-\u001B[39m\u001B[38;5;124m%\u001B[39m\u001B[38;5;124mm-\u001B[39m\u001B[38;5;132;01m%d\u001B[39;00m\u001B[38;5;124m \u001B[39m\u001B[38;5;124m%\u001B[39m\u001B[38;5;124mH:\u001B[39m\u001B[38;5;124m%\u001B[39m\u001B[38;5;124mM:\u001B[39m\u001B[38;5;124m%\u001B[39m\u001B[38;5;124mS\u001B[39m\u001B[38;5;124m\"\u001B[39m)\u001B[38;5;132;01m}\u001B[39;00m\u001B[38;5;124m'\u001B[39m)\n\nFile \u001B[0;32m/databricks/spark/python/pyspark/instrumentation_utils.py:48\u001B[0m, in \u001B[0;36m_wrap_function.<locals>.wrapper\u001B[0;34m(*args, **kwargs)\u001B[0m\n\u001B[1;32m     46\u001B[0m start \u001B[38;5;241m=\u001B[39m time\u001B[38;5;241m.\u001B[39mperf_counter()\n\u001B[1;32m     47\u001B[0m \u001B[38;5;28;01mtry\u001B[39;00m:\n\u001B[0;32m---> 48\u001B[0m     res \u001B[38;5;241m=\u001B[39m \u001B[43mfunc\u001B[49m\u001B[43m(\u001B[49m\u001B[38;5;241;43m*\u001B[39;49m\u001B[43margs\u001B[49m\u001B[43m,\u001B[49m\u001B[43m \u001B[49m\u001B[38;5;241;43m*\u001B[39;49m\u001B[38;5;241;43m*\u001B[39;49m\u001B[43mkwargs\u001B[49m\u001B[43m)\u001B[49m\n\u001B[1;32m     49\u001B[0m     logger\u001B[38;5;241m.\u001B[39mlog_success(\n\u001B[1;32m     50\u001B[0m         module_name, class_name, function_name, time\u001B[38;5;241m.\u001B[39mperf_counter() \u001B[38;5;241m-\u001B[39m start, signature\n\u001B[1;32m     51\u001B[0m     )\n\u001B[1;32m     52\u001B[0m     \u001B[38;5;28;01mreturn\u001B[39;00m res\n\nFile \u001B[0;32m/databricks/spark/python/pyspark/sql/dataframe.py:3168\u001B[0m, in \u001B[0;36mDataFrame.select\u001B[0;34m(self, *cols)\u001B[0m\n\u001B[1;32m   3123\u001B[0m \u001B[38;5;28;01mdef\u001B[39;00m \u001B[38;5;21mselect\u001B[39m(\u001B[38;5;28mself\u001B[39m, \u001B[38;5;241m*\u001B[39mcols: \u001B[38;5;124m\"\u001B[39m\u001B[38;5;124mColumnOrName\u001B[39m\u001B[38;5;124m\"\u001B[39m) \u001B[38;5;241m-\u001B[39m\u001B[38;5;241m>\u001B[39m \u001B[38;5;124m\"\u001B[39m\u001B[38;5;124mDataFrame\u001B[39m\u001B[38;5;124m\"\u001B[39m:  \u001B[38;5;66;03m# type: ignore[misc]\u001B[39;00m\n\u001B[1;32m   3124\u001B[0m     \u001B[38;5;124;03m\"\"\"Projects a set of expressions and returns a new :class:`DataFrame`.\u001B[39;00m\n\u001B[1;32m   3125\u001B[0m \n\u001B[1;32m   3126\u001B[0m \u001B[38;5;124;03m    .. versionadded:: 1.3.0\u001B[39;00m\n\u001B[0;32m   (...)\u001B[0m\n\u001B[1;32m   3166\u001B[0m \u001B[38;5;124;03m    +-----+---+\u001B[39;00m\n\u001B[1;32m   3167\u001B[0m \u001B[38;5;124;03m    \"\"\"\u001B[39;00m\n\u001B[0;32m-> 3168\u001B[0m     jdf \u001B[38;5;241m=\u001B[39m \u001B[38;5;28;43mself\u001B[39;49m\u001B[38;5;241;43m.\u001B[39;49m\u001B[43m_jdf\u001B[49m\u001B[38;5;241;43m.\u001B[39;49m\u001B[43mselect\u001B[49m\u001B[43m(\u001B[49m\u001B[38;5;28;43mself\u001B[39;49m\u001B[38;5;241;43m.\u001B[39;49m\u001B[43m_jcols\u001B[49m\u001B[43m(\u001B[49m\u001B[38;5;241;43m*\u001B[39;49m\u001B[43mcols\u001B[49m\u001B[43m)\u001B[49m\u001B[43m)\u001B[49m\n\u001B[1;32m   3169\u001B[0m     \u001B[38;5;28;01mreturn\u001B[39;00m DataFrame(jdf, \u001B[38;5;28mself\u001B[39m\u001B[38;5;241m.\u001B[39msparkSession)\n\nFile \u001B[0;32m/databricks/spark/python/lib/py4j-0.10.9.7-src.zip/py4j/java_gateway.py:1322\u001B[0m, in \u001B[0;36mJavaMember.__call__\u001B[0;34m(self, *args)\u001B[0m\n\u001B[1;32m   1316\u001B[0m command \u001B[38;5;241m=\u001B[39m proto\u001B[38;5;241m.\u001B[39mCALL_COMMAND_NAME \u001B[38;5;241m+\u001B[39m\\\n\u001B[1;32m   1317\u001B[0m     \u001B[38;5;28mself\u001B[39m\u001B[38;5;241m.\u001B[39mcommand_header \u001B[38;5;241m+\u001B[39m\\\n\u001B[1;32m   1318\u001B[0m     args_command \u001B[38;5;241m+\u001B[39m\\\n\u001B[1;32m   1319\u001B[0m     proto\u001B[38;5;241m.\u001B[39mEND_COMMAND_PART\n\u001B[1;32m   1321\u001B[0m answer \u001B[38;5;241m=\u001B[39m \u001B[38;5;28mself\u001B[39m\u001B[38;5;241m.\u001B[39mgateway_client\u001B[38;5;241m.\u001B[39msend_command(command)\n\u001B[0;32m-> 1322\u001B[0m return_value \u001B[38;5;241m=\u001B[39m \u001B[43mget_return_value\u001B[49m\u001B[43m(\u001B[49m\n\u001B[1;32m   1323\u001B[0m \u001B[43m    \u001B[49m\u001B[43manswer\u001B[49m\u001B[43m,\u001B[49m\u001B[43m \u001B[49m\u001B[38;5;28;43mself\u001B[39;49m\u001B[38;5;241;43m.\u001B[39;49m\u001B[43mgateway_client\u001B[49m\u001B[43m,\u001B[49m\u001B[43m \u001B[49m\u001B[38;5;28;43mself\u001B[39;49m\u001B[38;5;241;43m.\u001B[39;49m\u001B[43mtarget_id\u001B[49m\u001B[43m,\u001B[49m\u001B[43m \u001B[49m\u001B[38;5;28;43mself\u001B[39;49m\u001B[38;5;241;43m.\u001B[39;49m\u001B[43mname\u001B[49m\u001B[43m)\u001B[49m\n\u001B[1;32m   1325\u001B[0m \u001B[38;5;28;01mfor\u001B[39;00m temp_arg \u001B[38;5;129;01min\u001B[39;00m temp_args:\n\u001B[1;32m   1326\u001B[0m     \u001B[38;5;28;01mif\u001B[39;00m \u001B[38;5;28mhasattr\u001B[39m(temp_arg, \u001B[38;5;124m\"\u001B[39m\u001B[38;5;124m_detach\u001B[39m\u001B[38;5;124m\"\u001B[39m):\n\nFile \u001B[0;32m/databricks/spark/python/pyspark/errors/exceptions/captured.py:194\u001B[0m, in \u001B[0;36mcapture_sql_exception.<locals>.deco\u001B[0;34m(*a, **kw)\u001B[0m\n\u001B[1;32m    190\u001B[0m converted \u001B[38;5;241m=\u001B[39m convert_exception(e\u001B[38;5;241m.\u001B[39mjava_exception)\n\u001B[1;32m    191\u001B[0m \u001B[38;5;28;01mif\u001B[39;00m \u001B[38;5;129;01mnot\u001B[39;00m \u001B[38;5;28misinstance\u001B[39m(converted, UnknownException):\n\u001B[1;32m    192\u001B[0m     \u001B[38;5;66;03m# Hide where the exception came from that shows a non-Pythonic\u001B[39;00m\n\u001B[1;32m    193\u001B[0m     \u001B[38;5;66;03m# JVM exception message.\u001B[39;00m\n\u001B[0;32m--> 194\u001B[0m     \u001B[38;5;28;01mraise\u001B[39;00m converted \u001B[38;5;28;01mfrom\u001B[39;00m \u001B[38;5;28mNone\u001B[39m\n\u001B[1;32m    195\u001B[0m \u001B[38;5;28;01melse\u001B[39;00m:\n\u001B[1;32m    196\u001B[0m     \u001B[38;5;28;01mraise\u001B[39;00m\n\n\u001B[0;31mAnalysisException\u001B[0m: [UNRESOLVED_COLUMN.WITH_SUGGESTION] A column or function parameter with name `T` cannot be resolved. Did you mean one of the following? [`x`, `y`, `z`, `a_string`].;\n'Project ['T]\n+- Relation [x#8250L,y#8251L,z#8252L,a_string#8253] parquet\n",
       "errorSummary": "<span class='ansi-red-fg'>AnalysisException</span>: [UNRESOLVED_COLUMN.WITH_SUGGESTION] A column or function parameter with name `T` cannot be resolved. Did you mean one of the following? [`x`, `y`, `z`, `a_string`].;\n'Project ['T]\n+- Relation [x#8250L,y#8251L,z#8252L,a_string#8253] parquet\n",
       "errorTraceType": "ansi",
       "metadata": {},
       "type": "ipynbError"
      }
     },
     "output_type": "display_data"
    }
   ],
   "source": [
    "print(f\"Your new df_weather has {df_weather_new.count():,} rows.\")\n",
    "print(f'Max date: {df_weather_new.select([max(\"DATE\")]).collect()[0][\"max(DATE)\"].strftime(\"%Y-%m-%d %H:%M:%S\")}')"
   ]
  },
  {
   "cell_type": "code",
   "execution_count": 0,
   "metadata": {
    "application/vnd.databricks.v1+cell": {
     "cellMetadata": {
      "byteLimit": 2048000,
      "rowLimit": 10000
     },
     "inputWidgets": {},
     "nuid": "f1bcb2f6-2856-4165-892c-09c86ede0861",
     "showTitle": false,
     "title": ""
    }
   },
   "outputs": [],
   "source": [
    "display(dbutils.fs.ls(f\"{mids261_mount_path}/HW5\"))"
   ]
  },
  {
   "cell_type": "markdown",
   "metadata": {
    "application/vnd.databricks.v1+cell": {
     "cellMetadata": {
      "byteLimit": 2048000,
      "rowLimit": 10000
     },
     "inputWidgets": {},
     "nuid": "edf484ed-1a8c-4ab6-abdf-a1eb17030c97",
     "showTitle": false,
     "title": ""
    }
   },
   "source": [
    "# [DEPRECATED]\n",
    "### Using RDD API\n",
    "\n",
    "When reading/writing using the RDD API, configuration cannot happen at runtime but at cluster creation.\n",
    "If you need the following information to be added in your Cluster as Spark Configuration when running RDD API, ping TA team. You normally do not need this set up for the final project.\n",
    "- Storage Account name\n",
    "- Container name\n",
    "- Secret Scope name\n",
    "- Secret Key name\n",
    "\n",
    "**Important:** Do not share the actual SAS token.\n",
    "\n",
    "After this is added as Spark Configuration, try the scripts provided below to test the Hadoop plug-in to connect to your Azure Blob Storage.\n",
    "```\n",
    "spark.hadoop.fs.azure.sas.<container_name>.<storage_account>.blob.core.windows.net {{secrets/<scope>/<key>}}\n",
    "```"
   ]
  },
  {
   "cell_type": "code",
   "execution_count": 0,
   "metadata": {
    "application/vnd.databricks.v1+cell": {
     "cellMetadata": {
      "byteLimit": 2048000,
      "rowLimit": 10000
     },
     "inputWidgets": {},
     "nuid": "02a833cb-44b4-4671-90d1-b44803b46192",
     "showTitle": false,
     "title": ""
    }
   },
   "outputs": [],
   "source": [
    "rdd = sc.textFile('/mnt/mids-w261/HW5/test_graph.txt')\n",
    "\n",
    "\n",
    "parsed_rdd = rdd.map(lambda line: tuple(line.split('\\t')))\n",
    "parsed_rdd.take(3)"
   ]
  },
  {
   "cell_type": "code",
   "execution_count": 0,
   "metadata": {
    "application/vnd.databricks.v1+cell": {
     "cellMetadata": {
      "byteLimit": 2048000,
      "rowLimit": 10000
     },
     "inputWidgets": {},
     "nuid": "1608153b-7d03-4cfd-9825-159fc18205cb",
     "showTitle": false,
     "title": ""
    }
   },
   "outputs": [],
   "source": [
    "parsed_rdd.saveAsTextFile(f\"{blob_url}/graph_test\")"
   ]
  },
  {
   "cell_type": "code",
   "execution_count": 0,
   "metadata": {
    "application/vnd.databricks.v1+cell": {
     "cellMetadata": {
      "byteLimit": 2048000,
      "rowLimit": 10000
     },
     "inputWidgets": {},
     "nuid": "311b1ed9-d9e6-4704-a029-74da52ce55d0",
     "showTitle": false,
     "title": ""
    }
   },
   "outputs": [],
   "source": []
  }
 ],
 "metadata": {
  "application/vnd.databricks.v1+notebook": {
   "dashboards": [],
   "language": "python",
   "notebookMetadata": {
    "pythonIndentUnit": 4
   },
   "notebookName": "create_and_mount_team_cloud_storage_Ryan",
   "widgets": {}
  }
 },
 "nbformat": 4,
 "nbformat_minor": 0
}
